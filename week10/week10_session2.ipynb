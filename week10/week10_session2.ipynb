{
  "cells": [
    {
      "cell_type": "markdown",
      "metadata": {
        "id": "view-in-github",
        "colab_type": "text"
      },
      "source": [
        "<a href=\"https://colab.research.google.com/github/IAMJASURBEK/AIapplicationSystem/blob/main/week10/week10_session2.ipynb\" target=\"_parent\"><img src=\"https://colab.research.google.com/assets/colab-badge.svg\" alt=\"Open In Colab\"/></a>"
      ]
    },
    {
      "cell_type": "markdown",
      "source": [
        "## Week 10 Lab 1-1"
      ],
      "metadata": {
        "id": "OytPaOraAlDJ"
      }
    },
    {
      "cell_type": "markdown",
      "source": [
        "We start with a number of import statements"
      ],
      "metadata": {
        "id": "Cbct_jOqAiwC"
      }
    },
    {
      "cell_type": "code",
      "execution_count": 1,
      "metadata": {
        "id": "lIYdn1woOS1n"
      },
      "outputs": [],
      "source": [
        "import torch\n",
        "\n",
        "import torchvision\n",
        "\n",
        "from torchvision import transforms\n",
        "\n",
        "from PIL import Image\n",
        "\n",
        "\n",
        "\n"
      ]
    },
    {
      "cell_type": "code",
      "source": [
        "device = torch.device(\"cuda:0\" if torch.cuda.is_available() else \"cpu\")"
      ],
      "metadata": {
        "id": "fE5wsjIp9lqW"
      },
      "execution_count": 2,
      "outputs": []
    },
    {
      "cell_type": "markdown",
      "source": [
        "we then load one of the images with the function\n",
        "open , which will return an image in PIL format. We specified that we\n",
        "want the picture to be scaled to 224×224 pixels because that is what the\n",
        "ResNet-50 implementation expects. We then convert the image into a\n",
        "NumPy tensor to be able to present it to our network. The network expects\n",
        "an array of multiple images, so we add a fourth dimension; consequently,\n",
        "we have an array of images with a single element"
      ],
      "metadata": {
        "id": "8LTnFsrCAsCP"
      }
    },
    {
      "cell_type": "code",
      "source": [
        "# Load and preprocess image.\n",
        "\n",
        "image = Image.open('/content/dog.jpeg')\n",
        "\n",
        "preprocess = transforms.Compose([\n",
        "\n",
        "  transforms.Resize((224, 224)),\n",
        "\n",
        "  transforms.ToTensor(),\n",
        "\n",
        "  transforms.Normalize(mean=[0.485, 0.456, 0.406], std=[0.229, 0.224, 0.225]) ]) # Parameters are documented at pytorch.org.\n",
        "\n",
        "input_tensor = preprocess(image)\n",
        "\n",
        "# Convert to 4-dimensional tensor.\n",
        "\n",
        "inputs = input_tensor.unsqueeze(0)"
      ],
      "metadata": {
        "id": "x1Utfg0y9J4G"
      },
      "execution_count": 4,
      "outputs": []
    },
    {
      "cell_type": "markdown",
      "source": [
        "## Week 10 Lab 1-2"
      ],
      "metadata": {
        "id": "l_X1kLluCV-Q"
      }
    },
    {
      "cell_type": "markdown",
      "source": [
        "model, using weights\n",
        "that have been trained using the ImageNet dataset. Just as we did in\n",
        "previous examples, we standardize the input images because the ResNet50 model expects them to be standardized, using parameters derived from the training dataset that\n",
        "was used to train the model.Convert to probabilities, since final SoftMax activation is not in pretrained model and then print the predictions after first calling\n",
        "the convenience method sort(), which retrieves the labels\n",
        "in textual form.\n"
      ],
      "metadata": {
        "id": "TB2ebmPiA9mP"
      }
    },
    {
      "cell_type": "code",
      "source": [],
      "metadata": {
        "id": "Pv6xDOglMFLM"
      },
      "execution_count": null,
      "outputs": []
    },
    {
      "cell_type": "code",
      "source": [
        "# Load the pre-trained model.\n",
        "\n",
        "model = torchvision.models.resnet50(weights=torchvision.models.ResNet50_Weights.IMAGENET1K_V1)\n",
        "model.eval()\n",
        "\n",
        "# Transfer model to GPU.\n",
        "\n",
        "model.to(device)\n",
        "\n",
        "# Do prediction.\n",
        "\n",
        "inputs = inputs.to(device)\n",
        "\n",
        "with torch.no_grad():\n",
        "\n",
        "  outputs = model(inputs)\n",
        "\n",
        "# Convert to probabilities, since final SoftMax activation is not in pretrained model. \n",
        "probabilities = torch.nn.functional.softmax(outputs[0], dim=0)\n",
        "\n",
        "# Print class ID for top 5 predictions.\n",
        "\n",
        "_, indices = torch. sort(probabilities, descending=True)\n",
        "\n",
        "for i in range(0, 5):\n",
        "\n",
        "  print('ImageNet class:', indices[i].item(),', probability = %4.3f' % probabilities[indices[i]].item())\n",
        "\n",
        "# Show image.\n",
        "\n",
        "image.show()"
      ],
      "metadata": {
        "colab": {
          "base_uri": "https://localhost:8080/",
          "height": 179,
          "referenced_widgets": [
            "eb1dcc222d7d4604add0c244d417ad1d",
            "3e16dcd580a845b48c4ef4f404828e20",
            "0c310952a93944a3ab6e55cd38f7d267",
            "dd886f24a0a64690b1d5da4b4f2665a9",
            "85ff9dac401e4b8cb99824cdd5108af9",
            "965593df6b70482fb9e43ef893558f01",
            "3f3d3b7b06504c889152c7b8a9d8f00c",
            "49666dbd3b6b4595a78978ae8463a08f",
            "7831b465f788455da212372cac45c601",
            "4508a4115a0a409d967e1fc63cb3ef19",
            "78b31bf2db1c4619a6a6056ba117dfb1"
          ]
        },
        "id": "slFmq0Zi9CAg",
        "outputId": "3832bf85-2853-4779-933e-b37a4dd846b6"
      },
      "execution_count": 5,
      "outputs": [
        {
          "output_type": "stream",
          "name": "stderr",
          "text": [
            "Downloading: \"https://download.pytorch.org/models/resnet50-0676ba61.pth\" to /root/.cache/torch/hub/checkpoints/resnet50-0676ba61.pth\n"
          ]
        },
        {
          "output_type": "display_data",
          "data": {
            "text/plain": [
              "  0%|          | 0.00/97.8M [00:00<?, ?B/s]"
            ],
            "application/vnd.jupyter.widget-view+json": {
              "version_major": 2,
              "version_minor": 0,
              "model_id": "eb1dcc222d7d4604add0c244d417ad1d"
            }
          },
          "metadata": {}
        },
        {
          "output_type": "stream",
          "name": "stdout",
          "text": [
            "ImageNet class: 175 , probability = 0.429\n",
            "ImageNet class: 207 , probability = 0.132\n",
            "ImageNet class: 267 , probability = 0.061\n",
            "ImageNet class: 220 , probability = 0.059\n",
            "ImageNet class: 216 , probability = 0.058\n"
          ]
        }
      ]
    },
    {
      "cell_type": "markdown",
      "source": [
        "## Week 10 Lab 2"
      ],
      "metadata": {
        "id": "lLBx75jZNuLL"
      }
    },
    {
      "cell_type": "markdown",
      "source": [
        "Different ways to build Keras models"
      ],
      "metadata": {
        "id": "pQQA6KFVNyHC"
      }
    },
    {
      "cell_type": "markdown",
      "source": [
        "The Sequential class"
      ],
      "metadata": {
        "id": "UBxSJgGFN3PC"
      }
    },
    {
      "cell_type": "code",
      "source": [
        "from tensorflow import keras\n",
        "from tensorflow.keras import layers\n",
        "\n",
        "model = keras.Sequential([\n",
        "    layers.Dense(64, activation = \"relu\"),\n",
        "    layers.Dense(10, activation = \"softmax\")\n",
        "    \n",
        "])"
      ],
      "metadata": {
        "id": "dVa443tdMHsJ"
      },
      "execution_count": 6,
      "outputs": []
    },
    {
      "cell_type": "markdown",
      "source": [
        "Incrementally building a Sequential model"
      ],
      "metadata": {
        "id": "iosO6-4zNlOS"
      }
    },
    {
      "cell_type": "code",
      "source": [
        "model = keras.Sequential()\n",
        "model.add(layers.Dense(64, activation = \"relu\"))\n",
        "model.add(layers.Dense(10, activation = \"softmax\"))"
      ],
      "metadata": {
        "id": "ORmCEMYSM0kz"
      },
      "execution_count": 7,
      "outputs": []
    },
    {
      "cell_type": "markdown",
      "source": [
        "Calling a model for the first time to build it"
      ],
      "metadata": {
        "id": "N1IUQFg7NfNp"
      }
    },
    {
      "cell_type": "code",
      "source": [
        "model.build(input_shape=(None, 3))\n",
        "model.weights"
      ],
      "metadata": {
        "id": "U0TMgkimNF4T",
        "outputId": "f65c075a-78f1-428b-e81d-146ea1938dbf",
        "colab": {
          "base_uri": "https://localhost:8080/"
        }
      },
      "execution_count": 8,
      "outputs": [
        {
          "output_type": "execute_result",
          "data": {
            "text/plain": [
              "[<tf.Variable 'dense_2/kernel:0' shape=(3, 64) dtype=float32, numpy=\n",
              " array([[-0.23697785,  0.08561713,  0.23601073,  0.10843596, -0.10913125,\n",
              "         -0.11636624, -0.22417676,  0.13363886, -0.27362296, -0.0750642 ,\n",
              "          0.20867342, -0.03636956, -0.2464326 , -0.09155302,  0.20444572,\n",
              "         -0.22283529, -0.10905668, -0.16440831,  0.25594354, -0.28848383,\n",
              "         -0.05227026, -0.09476715,  0.09191167, -0.01803949, -0.07117377,\n",
              "          0.07055354, -0.21717201, -0.18146712, -0.25591752, -0.06651592,\n",
              "          0.23851466, -0.03750357, -0.23079309,  0.25820637, -0.05474517,\n",
              "          0.13829592,  0.21817392,  0.19037136, -0.11338754,  0.06392288,\n",
              "         -0.0994454 , -0.16264004, -0.00660571, -0.12798202,  0.12771916,\n",
              "         -0.08431932, -0.24380986, -0.06421961,  0.07118347,  0.13733718,\n",
              "          0.02422893, -0.025002  , -0.03640589, -0.00417355, -0.07693665,\n",
              "         -0.23323753,  0.21752542, -0.09509443, -0.25170103,  0.19159824,\n",
              "          0.23409206,  0.17044958, -0.03021863,  0.11645734],\n",
              "        [-0.02350298, -0.23189613, -0.05325921, -0.255809  , -0.28978074,\n",
              "         -0.16760802, -0.06376991,  0.00882119,  0.19332114, -0.00281394,\n",
              "          0.14205131,  0.25388217,  0.15355173, -0.25657606,  0.01021966,\n",
              "          0.12828839,  0.07437542, -0.01715693, -0.18617705, -0.02128008,\n",
              "          0.29182154, -0.18076642,  0.12437555, -0.01764286, -0.03986409,\n",
              "         -0.0199098 ,  0.19622934,  0.10307607,  0.07745013, -0.29901728,\n",
              "          0.17007545,  0.25652766,  0.14444381,  0.15052176,  0.24660385,\n",
              "          0.11546382,  0.17954239,  0.08681941,  0.19308263,  0.19529298,\n",
              "         -0.02257624,  0.27666163,  0.1962254 ,  0.22333127, -0.26048946,\n",
              "         -0.26670903,  0.18267083, -0.10233162, -0.07925116, -0.04397321,\n",
              "         -0.14485969, -0.07309137,  0.21429193, -0.08173876,  0.05252349,\n",
              "          0.23266006, -0.03055203,  0.1750398 , -0.13594967,  0.18614346,\n",
              "         -0.01504254, -0.11982152, -0.18192145,  0.10214141],\n",
              "        [-0.00678128, -0.2789313 ,  0.24453562,  0.03007394, -0.19111058,\n",
              "          0.01019526,  0.05495244, -0.19501907, -0.10565713,  0.16234314,\n",
              "          0.25141048, -0.0014883 ,  0.23926061,  0.00890893, -0.2143164 ,\n",
              "         -0.2512392 , -0.23645037,  0.21730602,  0.01956967,  0.2860571 ,\n",
              "          0.08535114, -0.26257738,  0.29218924,  0.2529955 ,  0.21155113,\n",
              "         -0.02389476,  0.23762691,  0.04707283, -0.0626623 , -0.17171757,\n",
              "         -0.00735778, -0.13828273, -0.00199929,  0.12526804,  0.09775475,\n",
              "          0.05422848,  0.1407592 , -0.18454212,  0.0479708 , -0.1503341 ,\n",
              "         -0.19156264,  0.08656713,  0.05168045, -0.07903133, -0.28620723,\n",
              "         -0.2221617 , -0.11238255, -0.13266383, -0.02223834, -0.17722045,\n",
              "          0.2759688 ,  0.03292355,  0.12603867, -0.16753995,  0.05866235,\n",
              "         -0.12155861,  0.15104827, -0.24804148,  0.14209083,  0.00630361,\n",
              "          0.2733342 ,  0.23129433,  0.09844568, -0.23531717]],\n",
              "       dtype=float32)>,\n",
              " <tf.Variable 'dense_2/bias:0' shape=(64,) dtype=float32, numpy=\n",
              " array([0., 0., 0., 0., 0., 0., 0., 0., 0., 0., 0., 0., 0., 0., 0., 0., 0.,\n",
              "        0., 0., 0., 0., 0., 0., 0., 0., 0., 0., 0., 0., 0., 0., 0., 0., 0.,\n",
              "        0., 0., 0., 0., 0., 0., 0., 0., 0., 0., 0., 0., 0., 0., 0., 0., 0.,\n",
              "        0., 0., 0., 0., 0., 0., 0., 0., 0., 0., 0., 0., 0.], dtype=float32)>,\n",
              " <tf.Variable 'dense_3/kernel:0' shape=(64, 10) dtype=float32, numpy=\n",
              " array([[-0.27121744,  0.23872206,  0.27675846,  0.26769343, -0.00361001,\n",
              "         -0.04333074,  0.27798626, -0.20739573, -0.20730123, -0.17190728],\n",
              "        [ 0.12390509, -0.20280495,  0.00433636,  0.03929672, -0.03134847,\n",
              "         -0.26917568,  0.03511921,  0.28459743,  0.02904689, -0.13602355],\n",
              "        [ 0.07563385,  0.025821  ,  0.14818943, -0.25738287, -0.0135901 ,\n",
              "          0.1761665 , -0.24245542, -0.17822205,  0.09014589,  0.19460931],\n",
              "        [-0.1616343 , -0.10198154, -0.17869577,  0.24220613,  0.14730474,\n",
              "         -0.04282239, -0.10337169,  0.23493794, -0.18994418, -0.1626396 ],\n",
              "        [ 0.06036377, -0.03523375, -0.0583216 ,  0.19417298, -0.16110876,\n",
              "          0.19327924,  0.02725956, -0.24980971,  0.08640575, -0.0762008 ],\n",
              "        [ 0.28211966,  0.0498096 , -0.06358925,  0.16183552, -0.27885932,\n",
              "          0.26292077, -0.28453606,  0.12580314, -0.15198238, -0.13534996],\n",
              "        [ 0.03561875, -0.14666632, -0.00581992, -0.20850635,  0.24276927,\n",
              "          0.07271266, -0.2764096 , -0.1033901 ,  0.20899332,  0.01279885],\n",
              "        [-0.28291717,  0.21398431,  0.23420277, -0.16233471, -0.06047823,\n",
              "          0.16698492, -0.20736215, -0.0414644 ,  0.03940269, -0.1652555 ],\n",
              "        [-0.08013742, -0.05193248, -0.19197541, -0.12418927, -0.09272704,\n",
              "          0.14223188,  0.10415766,  0.1036019 , -0.24836482, -0.03946087],\n",
              "        [ 0.08880332, -0.01841486,  0.222523  , -0.20605649,  0.16974255,\n",
              "         -0.15893319, -0.21851319, -0.0045104 ,  0.04868692,  0.08130252],\n",
              "        [ 0.24221686,  0.02123719, -0.02252859, -0.18868747, -0.26015872,\n",
              "         -0.13345803,  0.15730286,  0.21544012, -0.16273567, -0.24813522],\n",
              "        [ 0.2594494 ,  0.15475312,  0.0846743 ,  0.10799101,  0.24609491,\n",
              "         -0.2839214 ,  0.1135886 , -0.16611165, -0.26661736,  0.26904806],\n",
              "        [-0.24700351,  0.09882993,  0.10947093, -0.09708333, -0.01132667,\n",
              "         -0.13372639,  0.21181342,  0.16103396,  0.05470419,  0.13094708],\n",
              "        [ 0.12646931,  0.11452717, -0.01213688, -0.1726827 , -0.10305384,\n",
              "          0.19140732, -0.09373274, -0.09375691,  0.0695093 , -0.15683027],\n",
              "        [-0.15122989, -0.2683669 , -0.08423017,  0.05775946, -0.02054417,\n",
              "          0.17147747,  0.01483017, -0.03264779,  0.12549329,  0.20895597],\n",
              "        [ 0.13505009,  0.24685308,  0.08328319, -0.0473675 ,  0.00162777,\n",
              "          0.07871154,  0.04538167, -0.10658319, -0.07759741, -0.25327727],\n",
              "        [-0.11963628, -0.24591573, -0.05989398,  0.1285901 , -0.02558738,\n",
              "         -0.11518243,  0.1757136 ,  0.21689329,  0.2589731 , -0.14501825],\n",
              "        [ 0.18414983,  0.1738312 ,  0.11879596,  0.23486802,  0.23118713,\n",
              "          0.16505006, -0.24044082, -0.00936395, -0.18251339, -0.24395087],\n",
              "        [ 0.02955183, -0.04040113, -0.08973747, -0.19264454,  0.16474119,\n",
              "         -0.09538503, -0.1543217 ,  0.08761165, -0.205529  ,  0.2693484 ],\n",
              "        [ 0.14987531, -0.01201895, -0.15546373,  0.14178985, -0.23235027,\n",
              "          0.21058029, -0.16117558,  0.11367223,  0.07581058,  0.27768412],\n",
              "        [-0.19547877,  0.02886182, -0.13130018,  0.04220363,  0.11928421,\n",
              "          0.10466376,  0.27580926, -0.01035979, -0.28415588, -0.1005951 ],\n",
              "        [-0.23470168,  0.19609806, -0.23480962,  0.00837833, -0.15968806,\n",
              "          0.26068464, -0.0118992 , -0.11220114, -0.21863267, -0.19657192],\n",
              "        [-0.20349456, -0.16493778,  0.13203418, -0.08319011,  0.11712962,\n",
              "          0.0151256 , -0.13380474,  0.14104891, -0.25154054,  0.14179713],\n",
              "        [-0.14983715, -0.20047343, -0.01046142,  0.26840255,  0.0629141 ,\n",
              "          0.20587564,  0.22946975,  0.24191806, -0.24640039,  0.21804312],\n",
              "        [ 0.2257342 ,  0.15375951,  0.24626365,  0.00372574, -0.16173899,\n",
              "          0.26687756,  0.17212799, -0.2348141 , -0.12045836,  0.11449477],\n",
              "        [ 0.2753844 ,  0.24224976, -0.18391353, -0.16060728,  0.22618756,\n",
              "         -0.03620857,  0.11786059,  0.01073197,  0.07861954,  0.11849263],\n",
              "        [ 0.09127754, -0.17752558,  0.22041169,  0.04068953, -0.25516135,\n",
              "         -0.2044653 ,  0.1550619 , -0.17935273,  0.21710101,  0.03327176],\n",
              "        [-0.16458502,  0.27906886,  0.2811899 ,  0.03147894,  0.20015347,\n",
              "          0.17572957,  0.09724531, -0.15872309,  0.06765905,  0.07994211],\n",
              "        [-0.28218925,  0.10275874,  0.08652869, -0.22955908,  0.255533  ,\n",
              "         -0.01595142,  0.16444078,  0.11818361, -0.14713639,  0.23077706],\n",
              "        [-0.01124868,  0.0074921 , -0.08478577,  0.12325037, -0.0732096 ,\n",
              "         -0.10459018, -0.0910977 ,  0.26554838,  0.05503929,  0.05125698],\n",
              "        [-0.19530626, -0.21047275, -0.25541416,  0.05526224,  0.11588061,\n",
              "          0.18122464,  0.03416109,  0.19277224,  0.17244354, -0.02554992],\n",
              "        [ 0.03344914,  0.01615378, -0.04163373,  0.10191813,  0.277885  ,\n",
              "          0.25265   ,  0.1728392 , -0.16421497, -0.04902935, -0.24017116],\n",
              "        [ 0.10781577, -0.10660152, -0.04818195,  0.2031452 ,  0.05494753,\n",
              "         -0.01170278, -0.28139943, -0.1335748 , -0.26838925, -0.2174499 ],\n",
              "        [ 0.2391139 ,  0.14846832,  0.03632852,  0.13628629,  0.1457991 ,\n",
              "          0.260008  , -0.23668072,  0.248885  ,  0.17430973,  0.15701792],\n",
              "        [-0.12400889, -0.1429424 , -0.13201226,  0.28242365, -0.09059586,\n",
              "         -0.18065552, -0.08165608,  0.04782343, -0.16083544,  0.18671775],\n",
              "        [ 0.05491289,  0.07354096,  0.08056784, -0.22498837,  0.13464737,\n",
              "         -0.06744555, -0.01839557, -0.01849148,  0.17044121, -0.06072405],\n",
              "        [-0.0004082 , -0.10665156,  0.09866738,  0.24158075, -0.02155545,\n",
              "         -0.10245539,  0.05425265,  0.09414232, -0.25585136,  0.2698107 ],\n",
              "        [ 0.13065013,  0.047003  ,  0.14641058,  0.14741126, -0.23086947,\n",
              "         -0.11994165, -0.06569523, -0.21342707, -0.04872929, -0.14428172],\n",
              "        [ 0.25372759, -0.09645298,  0.16360566, -0.06858446, -0.02301377,\n",
              "         -0.21977824,  0.11727485,  0.02483505,  0.20793411, -0.12337562],\n",
              "        [ 0.00681716,  0.06800768, -0.19194534,  0.12938279, -0.20484379,\n",
              "          0.26497033, -0.08707269, -0.22192949,  0.05237654, -0.09619263],\n",
              "        [ 0.24846813, -0.2479397 ,  0.26846758,  0.01534402,  0.17503038,\n",
              "         -0.2669804 ,  0.03783751,  0.1304828 ,  0.2695996 ,  0.0952673 ],\n",
              "        [ 0.12848535,  0.06310079,  0.14754325,  0.27584848, -0.2444585 ,\n",
              "          0.02477753, -0.12881184, -0.23047307,  0.06686142,  0.02953425],\n",
              "        [-0.12781739, -0.18387999,  0.2346119 ,  0.24481204,  0.20157567,\n",
              "         -0.0564442 ,  0.04523578, -0.04490794, -0.13742764, -0.2169548 ],\n",
              "        [-0.07226519,  0.1096327 , -0.03173399,  0.2708738 ,  0.20677769,\n",
              "         -0.20522805,  0.27559724, -0.2790655 ,  0.16168907,  0.13132122],\n",
              "        [ 0.03730884,  0.06093711, -0.21706498,  0.0065659 , -0.23963742,\n",
              "         -0.06851575, -0.0963117 ,  0.07500505,  0.04293454,  0.1828061 ],\n",
              "        [-0.1869652 , -0.06574744,  0.10853913,  0.12284297,  0.20964578,\n",
              "         -0.1282341 , -0.23519136, -0.08587077, -0.01595059,  0.24787715],\n",
              "        [ 0.06201869, -0.13695723,  0.09856942, -0.11948469, -0.1609049 ,\n",
              "         -0.08809584,  0.12188232, -0.256564  , -0.11766249,  0.11872908],\n",
              "        [-0.24472407, -0.04547128, -0.26589948,  0.01830813, -0.13922215,\n",
              "          0.20444182,  0.21835294, -0.09553736, -0.14278178,  0.01114774],\n",
              "        [ 0.16170564, -0.10501705,  0.09093747,  0.1370613 ,  0.11171621,\n",
              "          0.09167305, -0.02416763,  0.14082915,  0.05358601,  0.15023187],\n",
              "        [ 0.22509047, -0.237089  , -0.2384125 , -0.00935727, -0.01237711,\n",
              "          0.16188604,  0.07674512, -0.15239514,  0.23317352,  0.16872212],\n",
              "        [-0.03253874,  0.2499465 , -0.2158131 , -0.16836992,  0.02837214,\n",
              "         -0.2136118 ,  0.2407982 ,  0.2103217 , -0.04027933, -0.22168049],\n",
              "        [ 0.21105435, -0.21226706,  0.0040026 ,  0.13694218,  0.260304  ,\n",
              "          0.10098812, -0.00792903, -0.01034474, -0.24838758,  0.05904862],\n",
              "        [ 0.1382066 ,  0.23176762, -0.08231182, -0.08321774, -0.15447988,\n",
              "         -0.2270503 , -0.01569209, -0.01151311,  0.27397713, -0.21030106],\n",
              "        [ 0.03282797, -0.19027847,  0.10010937,  0.07262665, -0.26118818,\n",
              "         -0.19690913,  0.02938849, -0.07971759,  0.07722259,  0.24982062],\n",
              "        [-0.12696016, -0.27504754, -0.2731389 , -0.18171561,  0.05392742,\n",
              "         -0.24298707,  0.1375474 ,  0.24700156, -0.12896194,  0.12854666],\n",
              "        [ 0.23302081, -0.12838773,  0.16046289,  0.18536383, -0.01314983,\n",
              "         -0.23872696, -0.23758811,  0.00641668,  0.02117696, -0.20206489],\n",
              "        [-0.21090865, -0.2514429 , -0.00604111,  0.24189577, -0.07660453,\n",
              "          0.0774551 , -0.0261851 ,  0.14838398, -0.03663212, -0.26269817],\n",
              "        [-0.24159867, -0.12829737,  0.14540127, -0.04535539, -0.09070821,\n",
              "          0.23557886, -0.14756137, -0.24663495, -0.01950663, -0.04672323],\n",
              "        [-0.06822254,  0.07187504,  0.13059717, -0.23754276,  0.03646538,\n",
              "         -0.23275903, -0.11790356,  0.20504129, -0.26133543,  0.15667018],\n",
              "        [ 0.08226812, -0.04610755,  0.2599353 ,  0.01529717, -0.2234989 ,\n",
              "          0.14903131, -0.26663527,  0.26568273,  0.18436763, -0.00505942],\n",
              "        [-0.08688198,  0.23863909, -0.16442026,  0.07484707,  0.22746632,\n",
              "         -0.05939315, -0.26871416, -0.2685354 ,  0.1777707 ,  0.19323319],\n",
              "        [ 0.27692208,  0.22066376, -0.20817992,  0.19329959,  0.06651607,\n",
              "         -0.01435494, -0.19940893, -0.0167864 ,  0.09971988,  0.11249048],\n",
              "        [ 0.20836064, -0.06993634,  0.13723537,  0.17005119, -0.06795615,\n",
              "         -0.09220599,  0.05644229,  0.18553376,  0.12363788, -0.04499315],\n",
              "        [ 0.26437703,  0.03269124,  0.23206577,  0.03765726, -0.21934116,\n",
              "          0.13091049,  0.18955156,  0.052883  ,  0.03329688,  0.1500713 ]],\n",
              "       dtype=float32)>,\n",
              " <tf.Variable 'dense_3/bias:0' shape=(10,) dtype=float32, numpy=array([0., 0., 0., 0., 0., 0., 0., 0., 0., 0.], dtype=float32)>]"
            ]
          },
          "metadata": {},
          "execution_count": 8
        }
      ]
    },
    {
      "cell_type": "markdown",
      "source": [
        "The summary method"
      ],
      "metadata": {
        "id": "hgSdZA37NbGy"
      }
    },
    {
      "cell_type": "code",
      "source": [
        "model.summary()"
      ],
      "metadata": {
        "id": "K5c9Pe9QNRRT",
        "outputId": "936c15e4-a29b-401a-f8b2-e9645a844e8c",
        "colab": {
          "base_uri": "https://localhost:8080/"
        }
      },
      "execution_count": null,
      "outputs": [
        {
          "output_type": "stream",
          "name": "stdout",
          "text": [
            "Model: \"sequential_1\"\n",
            "_________________________________________________________________\n",
            " Layer (type)                Output Shape              Param #   \n",
            "=================================================================\n",
            " dense_2 (Dense)             (None, 64)                256       \n",
            "                                                                 \n",
            " dense_3 (Dense)             (None, 10)                650       \n",
            "                                                                 \n",
            "=================================================================\n",
            "Total params: 906\n",
            "Trainable params: 906\n",
            "Non-trainable params: 0\n",
            "_________________________________________________________________\n"
          ]
        }
      ]
    },
    {
      "cell_type": "markdown",
      "source": [
        "## Week 10 Lab 3"
      ],
      "metadata": {
        "id": "5_UrkjmqpV1P"
      }
    },
    {
      "cell_type": "code",
      "source": [
        "inputs = keras.Input(shape=(3,), name=\"my_input\")\n",
        "features = layers.Dense(64, activation=\"relu\")(inputs)\n",
        "outputs = layers.Dense(10, activation=\"softmax\")(features)\n",
        "model = keras.Model(inputs=inputs, outputs=outputs)"
      ],
      "metadata": {
        "id": "pugD5rXcpdIA"
      },
      "execution_count": 9,
      "outputs": []
    },
    {
      "cell_type": "code",
      "source": [
        "inputs = keras.Input(shape=(3,), name=\"my_input\")"
      ],
      "metadata": {
        "id": "vv19uoOor02J"
      },
      "execution_count": 10,
      "outputs": []
    },
    {
      "cell_type": "code",
      "source": [
        "inputs.shape"
      ],
      "metadata": {
        "id": "NkfxK7TMr5Tv",
        "outputId": "01d7ac97-3dba-46f7-e87b-f3b83f5ccd3d",
        "colab": {
          "base_uri": "https://localhost:8080/"
        }
      },
      "execution_count": 11,
      "outputs": [
        {
          "output_type": "execute_result",
          "data": {
            "text/plain": [
              "TensorShape([None, 3])"
            ]
          },
          "metadata": {},
          "execution_count": 11
        }
      ]
    },
    {
      "cell_type": "code",
      "source": [
        "inputs.dtype"
      ],
      "metadata": {
        "id": "VW07bt-xr8n_",
        "outputId": "0b8f677c-779f-4fd0-ce5c-2198f1ba776d",
        "colab": {
          "base_uri": "https://localhost:8080/"
        }
      },
      "execution_count": 12,
      "outputs": [
        {
          "output_type": "execute_result",
          "data": {
            "text/plain": [
              "tf.float32"
            ]
          },
          "metadata": {},
          "execution_count": 12
        }
      ]
    },
    {
      "cell_type": "code",
      "source": [
        "features = layers.Dense(64, activation=\"relu\")(inputs)"
      ],
      "metadata": {
        "id": "xiPIyoeOr_0H"
      },
      "execution_count": 13,
      "outputs": []
    },
    {
      "cell_type": "code",
      "source": [
        "features.shape"
      ],
      "metadata": {
        "id": "2CHlf4ZssDF3",
        "outputId": "311e4bc8-8672-4189-abf7-b3f289f60875",
        "colab": {
          "base_uri": "https://localhost:8080/"
        }
      },
      "execution_count": 14,
      "outputs": [
        {
          "output_type": "execute_result",
          "data": {
            "text/plain": [
              "TensorShape([None, 64])"
            ]
          },
          "metadata": {},
          "execution_count": 14
        }
      ]
    },
    {
      "cell_type": "code",
      "source": [
        "outputs = layers.Dense(10, activation=\"softmax\")(features)\n",
        "model = keras.Model(inputs=inputs, outputs=outputs)"
      ],
      "metadata": {
        "id": "tXOvax-GsG0G"
      },
      "execution_count": 15,
      "outputs": []
    },
    {
      "cell_type": "code",
      "source": [
        "model.summary()"
      ],
      "metadata": {
        "id": "DN5XJE98sLRn",
        "outputId": "ac6fc65f-8e6d-4bf7-d4cf-a476773aff1b",
        "colab": {
          "base_uri": "https://localhost:8080/"
        }
      },
      "execution_count": 16,
      "outputs": [
        {
          "output_type": "stream",
          "name": "stdout",
          "text": [
            "Model: \"model_1\"\n",
            "_________________________________________________________________\n",
            " Layer (type)                Output Shape              Param #   \n",
            "=================================================================\n",
            " my_input (InputLayer)       [(None, 3)]               0         \n",
            "                                                                 \n",
            " dense_6 (Dense)             (None, 64)                256       \n",
            "                                                                 \n",
            " dense_7 (Dense)             (None, 10)                650       \n",
            "                                                                 \n",
            "=================================================================\n",
            "Total params: 906\n",
            "Trainable params: 906\n",
            "Non-trainable params: 0\n",
            "_________________________________________________________________\n"
          ]
        }
      ]
    }
  ],
  "metadata": {
    "colab": {
      "name": "scratchpad",
      "provenance": [],
      "include_colab_link": true
    },
    "kernelspec": {
      "display_name": "Python 3",
      "name": "python3"
    },
    "widgets": {
      "application/vnd.jupyter.widget-state+json": {
        "eb1dcc222d7d4604add0c244d417ad1d": {
          "model_module": "@jupyter-widgets/controls",
          "model_name": "HBoxModel",
          "model_module_version": "1.5.0",
          "state": {
            "_dom_classes": [],
            "_model_module": "@jupyter-widgets/controls",
            "_model_module_version": "1.5.0",
            "_model_name": "HBoxModel",
            "_view_count": null,
            "_view_module": "@jupyter-widgets/controls",
            "_view_module_version": "1.5.0",
            "_view_name": "HBoxView",
            "box_style": "",
            "children": [
              "IPY_MODEL_3e16dcd580a845b48c4ef4f404828e20",
              "IPY_MODEL_0c310952a93944a3ab6e55cd38f7d267",
              "IPY_MODEL_dd886f24a0a64690b1d5da4b4f2665a9"
            ],
            "layout": "IPY_MODEL_85ff9dac401e4b8cb99824cdd5108af9"
          }
        },
        "3e16dcd580a845b48c4ef4f404828e20": {
          "model_module": "@jupyter-widgets/controls",
          "model_name": "HTMLModel",
          "model_module_version": "1.5.0",
          "state": {
            "_dom_classes": [],
            "_model_module": "@jupyter-widgets/controls",
            "_model_module_version": "1.5.0",
            "_model_name": "HTMLModel",
            "_view_count": null,
            "_view_module": "@jupyter-widgets/controls",
            "_view_module_version": "1.5.0",
            "_view_name": "HTMLView",
            "description": "",
            "description_tooltip": null,
            "layout": "IPY_MODEL_965593df6b70482fb9e43ef893558f01",
            "placeholder": "​",
            "style": "IPY_MODEL_3f3d3b7b06504c889152c7b8a9d8f00c",
            "value": "100%"
          }
        },
        "0c310952a93944a3ab6e55cd38f7d267": {
          "model_module": "@jupyter-widgets/controls",
          "model_name": "FloatProgressModel",
          "model_module_version": "1.5.0",
          "state": {
            "_dom_classes": [],
            "_model_module": "@jupyter-widgets/controls",
            "_model_module_version": "1.5.0",
            "_model_name": "FloatProgressModel",
            "_view_count": null,
            "_view_module": "@jupyter-widgets/controls",
            "_view_module_version": "1.5.0",
            "_view_name": "ProgressView",
            "bar_style": "success",
            "description": "",
            "description_tooltip": null,
            "layout": "IPY_MODEL_49666dbd3b6b4595a78978ae8463a08f",
            "max": 102530333,
            "min": 0,
            "orientation": "horizontal",
            "style": "IPY_MODEL_7831b465f788455da212372cac45c601",
            "value": 102530333
          }
        },
        "dd886f24a0a64690b1d5da4b4f2665a9": {
          "model_module": "@jupyter-widgets/controls",
          "model_name": "HTMLModel",
          "model_module_version": "1.5.0",
          "state": {
            "_dom_classes": [],
            "_model_module": "@jupyter-widgets/controls",
            "_model_module_version": "1.5.0",
            "_model_name": "HTMLModel",
            "_view_count": null,
            "_view_module": "@jupyter-widgets/controls",
            "_view_module_version": "1.5.0",
            "_view_name": "HTMLView",
            "description": "",
            "description_tooltip": null,
            "layout": "IPY_MODEL_4508a4115a0a409d967e1fc63cb3ef19",
            "placeholder": "​",
            "style": "IPY_MODEL_78b31bf2db1c4619a6a6056ba117dfb1",
            "value": " 97.8M/97.8M [00:04&lt;00:00, 19.3MB/s]"
          }
        },
        "85ff9dac401e4b8cb99824cdd5108af9": {
          "model_module": "@jupyter-widgets/base",
          "model_name": "LayoutModel",
          "model_module_version": "1.2.0",
          "state": {
            "_model_module": "@jupyter-widgets/base",
            "_model_module_version": "1.2.0",
            "_model_name": "LayoutModel",
            "_view_count": null,
            "_view_module": "@jupyter-widgets/base",
            "_view_module_version": "1.2.0",
            "_view_name": "LayoutView",
            "align_content": null,
            "align_items": null,
            "align_self": null,
            "border": null,
            "bottom": null,
            "display": null,
            "flex": null,
            "flex_flow": null,
            "grid_area": null,
            "grid_auto_columns": null,
            "grid_auto_flow": null,
            "grid_auto_rows": null,
            "grid_column": null,
            "grid_gap": null,
            "grid_row": null,
            "grid_template_areas": null,
            "grid_template_columns": null,
            "grid_template_rows": null,
            "height": null,
            "justify_content": null,
            "justify_items": null,
            "left": null,
            "margin": null,
            "max_height": null,
            "max_width": null,
            "min_height": null,
            "min_width": null,
            "object_fit": null,
            "object_position": null,
            "order": null,
            "overflow": null,
            "overflow_x": null,
            "overflow_y": null,
            "padding": null,
            "right": null,
            "top": null,
            "visibility": null,
            "width": null
          }
        },
        "965593df6b70482fb9e43ef893558f01": {
          "model_module": "@jupyter-widgets/base",
          "model_name": "LayoutModel",
          "model_module_version": "1.2.0",
          "state": {
            "_model_module": "@jupyter-widgets/base",
            "_model_module_version": "1.2.0",
            "_model_name": "LayoutModel",
            "_view_count": null,
            "_view_module": "@jupyter-widgets/base",
            "_view_module_version": "1.2.0",
            "_view_name": "LayoutView",
            "align_content": null,
            "align_items": null,
            "align_self": null,
            "border": null,
            "bottom": null,
            "display": null,
            "flex": null,
            "flex_flow": null,
            "grid_area": null,
            "grid_auto_columns": null,
            "grid_auto_flow": null,
            "grid_auto_rows": null,
            "grid_column": null,
            "grid_gap": null,
            "grid_row": null,
            "grid_template_areas": null,
            "grid_template_columns": null,
            "grid_template_rows": null,
            "height": null,
            "justify_content": null,
            "justify_items": null,
            "left": null,
            "margin": null,
            "max_height": null,
            "max_width": null,
            "min_height": null,
            "min_width": null,
            "object_fit": null,
            "object_position": null,
            "order": null,
            "overflow": null,
            "overflow_x": null,
            "overflow_y": null,
            "padding": null,
            "right": null,
            "top": null,
            "visibility": null,
            "width": null
          }
        },
        "3f3d3b7b06504c889152c7b8a9d8f00c": {
          "model_module": "@jupyter-widgets/controls",
          "model_name": "DescriptionStyleModel",
          "model_module_version": "1.5.0",
          "state": {
            "_model_module": "@jupyter-widgets/controls",
            "_model_module_version": "1.5.0",
            "_model_name": "DescriptionStyleModel",
            "_view_count": null,
            "_view_module": "@jupyter-widgets/base",
            "_view_module_version": "1.2.0",
            "_view_name": "StyleView",
            "description_width": ""
          }
        },
        "49666dbd3b6b4595a78978ae8463a08f": {
          "model_module": "@jupyter-widgets/base",
          "model_name": "LayoutModel",
          "model_module_version": "1.2.0",
          "state": {
            "_model_module": "@jupyter-widgets/base",
            "_model_module_version": "1.2.0",
            "_model_name": "LayoutModel",
            "_view_count": null,
            "_view_module": "@jupyter-widgets/base",
            "_view_module_version": "1.2.0",
            "_view_name": "LayoutView",
            "align_content": null,
            "align_items": null,
            "align_self": null,
            "border": null,
            "bottom": null,
            "display": null,
            "flex": null,
            "flex_flow": null,
            "grid_area": null,
            "grid_auto_columns": null,
            "grid_auto_flow": null,
            "grid_auto_rows": null,
            "grid_column": null,
            "grid_gap": null,
            "grid_row": null,
            "grid_template_areas": null,
            "grid_template_columns": null,
            "grid_template_rows": null,
            "height": null,
            "justify_content": null,
            "justify_items": null,
            "left": null,
            "margin": null,
            "max_height": null,
            "max_width": null,
            "min_height": null,
            "min_width": null,
            "object_fit": null,
            "object_position": null,
            "order": null,
            "overflow": null,
            "overflow_x": null,
            "overflow_y": null,
            "padding": null,
            "right": null,
            "top": null,
            "visibility": null,
            "width": null
          }
        },
        "7831b465f788455da212372cac45c601": {
          "model_module": "@jupyter-widgets/controls",
          "model_name": "ProgressStyleModel",
          "model_module_version": "1.5.0",
          "state": {
            "_model_module": "@jupyter-widgets/controls",
            "_model_module_version": "1.5.0",
            "_model_name": "ProgressStyleModel",
            "_view_count": null,
            "_view_module": "@jupyter-widgets/base",
            "_view_module_version": "1.2.0",
            "_view_name": "StyleView",
            "bar_color": null,
            "description_width": ""
          }
        },
        "4508a4115a0a409d967e1fc63cb3ef19": {
          "model_module": "@jupyter-widgets/base",
          "model_name": "LayoutModel",
          "model_module_version": "1.2.0",
          "state": {
            "_model_module": "@jupyter-widgets/base",
            "_model_module_version": "1.2.0",
            "_model_name": "LayoutModel",
            "_view_count": null,
            "_view_module": "@jupyter-widgets/base",
            "_view_module_version": "1.2.0",
            "_view_name": "LayoutView",
            "align_content": null,
            "align_items": null,
            "align_self": null,
            "border": null,
            "bottom": null,
            "display": null,
            "flex": null,
            "flex_flow": null,
            "grid_area": null,
            "grid_auto_columns": null,
            "grid_auto_flow": null,
            "grid_auto_rows": null,
            "grid_column": null,
            "grid_gap": null,
            "grid_row": null,
            "grid_template_areas": null,
            "grid_template_columns": null,
            "grid_template_rows": null,
            "height": null,
            "justify_content": null,
            "justify_items": null,
            "left": null,
            "margin": null,
            "max_height": null,
            "max_width": null,
            "min_height": null,
            "min_width": null,
            "object_fit": null,
            "object_position": null,
            "order": null,
            "overflow": null,
            "overflow_x": null,
            "overflow_y": null,
            "padding": null,
            "right": null,
            "top": null,
            "visibility": null,
            "width": null
          }
        },
        "78b31bf2db1c4619a6a6056ba117dfb1": {
          "model_module": "@jupyter-widgets/controls",
          "model_name": "DescriptionStyleModel",
          "model_module_version": "1.5.0",
          "state": {
            "_model_module": "@jupyter-widgets/controls",
            "_model_module_version": "1.5.0",
            "_model_name": "DescriptionStyleModel",
            "_view_count": null,
            "_view_module": "@jupyter-widgets/base",
            "_view_module_version": "1.2.0",
            "_view_name": "StyleView",
            "description_width": ""
          }
        }
      }
    }
  },
  "nbformat": 4,
  "nbformat_minor": 0
}