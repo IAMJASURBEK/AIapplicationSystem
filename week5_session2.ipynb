{
  "cells": [
    {
      "cell_type": "markdown",
      "metadata": {
        "id": "view-in-github",
        "colab_type": "text"
      },
      "source": [
        "<a href=\"https://colab.research.google.com/github/IAMJASURBEK/AIapplicationSystem/blob/main/week5_session2.ipynb\" target=\"_parent\"><img src=\"https://colab.research.google.com/assets/colab-badge.svg\" alt=\"Open In Colab\"/></a>"
      ]
    },
    {
      "cell_type": "code",
      "execution_count": 1,
      "metadata": {
        "colab": {
          "base_uri": "https://localhost:8080/",
          "height": 1000
        },
        "id": "lIYdn1woOS1n",
        "outputId": "fcd56e5b-7020-4a39-e327-859d54b1e85c"
      },
      "outputs": [
        {
          "output_type": "stream",
          "name": "stdout",
          "text": [
            "Looking in indexes: https://pypi.org/simple, https://us-python.pkg.dev/colab-wheels/public/simple/\n",
            "Collecting tensorflow==1.15.5\n",
            "  Downloading tensorflow-1.15.5-cp37-cp37m-manylinux2010_x86_64.whl (110.5 MB)\n",
            "\u001b[K     |████████████████████████████████| 110.5 MB 1.2 MB/s \n",
            "\u001b[?25hCollecting numpy<1.19.0,>=1.16.0\n",
            "  Downloading numpy-1.18.5-cp37-cp37m-manylinux1_x86_64.whl (20.1 MB)\n",
            "\u001b[K     |████████████████████████████████| 20.1 MB 58.7 MB/s \n",
            "\u001b[?25hRequirement already satisfied: termcolor>=1.1.0 in /usr/local/lib/python3.7/dist-packages (from tensorflow==1.15.5) (2.0.1)\n",
            "Requirement already satisfied: google-pasta>=0.1.6 in /usr/local/lib/python3.7/dist-packages (from tensorflow==1.15.5) (0.2.0)\n",
            "Requirement already satisfied: absl-py>=0.7.0 in /usr/local/lib/python3.7/dist-packages (from tensorflow==1.15.5) (1.3.0)\n",
            "Collecting h5py<=2.10.0\n",
            "  Downloading h5py-2.10.0-cp37-cp37m-manylinux1_x86_64.whl (2.9 MB)\n",
            "\u001b[K     |████████████████████████████████| 2.9 MB 33.4 MB/s \n",
            "\u001b[?25hRequirement already satisfied: protobuf>=3.6.1 in /usr/local/lib/python3.7/dist-packages (from tensorflow==1.15.5) (3.17.3)\n",
            "Collecting tensorboard<1.16.0,>=1.15.0\n",
            "  Downloading tensorboard-1.15.0-py3-none-any.whl (3.8 MB)\n",
            "\u001b[K     |████████████████████████████████| 3.8 MB 35.8 MB/s \n",
            "\u001b[?25hRequirement already satisfied: opt-einsum>=2.3.2 in /usr/local/lib/python3.7/dist-packages (from tensorflow==1.15.5) (3.3.0)\n",
            "Requirement already satisfied: six>=1.10.0 in /usr/local/lib/python3.7/dist-packages (from tensorflow==1.15.5) (1.15.0)\n",
            "Requirement already satisfied: wrapt>=1.11.1 in /usr/local/lib/python3.7/dist-packages (from tensorflow==1.15.5) (1.14.1)\n",
            "Requirement already satisfied: grpcio>=1.8.6 in /usr/local/lib/python3.7/dist-packages (from tensorflow==1.15.5) (1.49.1)\n",
            "Requirement already satisfied: astor>=0.6.0 in /usr/local/lib/python3.7/dist-packages (from tensorflow==1.15.5) (0.8.1)\n",
            "Collecting tensorflow-estimator==1.15.1\n",
            "  Downloading tensorflow_estimator-1.15.1-py2.py3-none-any.whl (503 kB)\n",
            "\u001b[K     |████████████████████████████████| 503 kB 46.8 MB/s \n",
            "\u001b[?25hRequirement already satisfied: wheel>=0.26 in /usr/local/lib/python3.7/dist-packages (from tensorflow==1.15.5) (0.37.1)\n",
            "Collecting keras-applications>=1.0.8\n",
            "  Downloading Keras_Applications-1.0.8-py3-none-any.whl (50 kB)\n",
            "\u001b[K     |████████████████████████████████| 50 kB 3.7 MB/s \n",
            "\u001b[?25hRequirement already satisfied: keras-preprocessing>=1.0.5 in /usr/local/lib/python3.7/dist-packages (from tensorflow==1.15.5) (1.1.2)\n",
            "Collecting gast==0.2.2\n",
            "  Downloading gast-0.2.2.tar.gz (10 kB)\n",
            "Requirement already satisfied: markdown>=2.6.8 in /usr/local/lib/python3.7/dist-packages (from tensorboard<1.16.0,>=1.15.0->tensorflow==1.15.5) (3.4.1)\n",
            "Requirement already satisfied: werkzeug>=0.11.15 in /usr/local/lib/python3.7/dist-packages (from tensorboard<1.16.0,>=1.15.0->tensorflow==1.15.5) (1.0.1)\n",
            "Requirement already satisfied: setuptools>=41.0.0 in /usr/local/lib/python3.7/dist-packages (from tensorboard<1.16.0,>=1.15.0->tensorflow==1.15.5) (57.4.0)\n",
            "Requirement already satisfied: importlib-metadata>=4.4 in /usr/local/lib/python3.7/dist-packages (from markdown>=2.6.8->tensorboard<1.16.0,>=1.15.0->tensorflow==1.15.5) (4.13.0)\n",
            "Requirement already satisfied: typing-extensions>=3.6.4 in /usr/local/lib/python3.7/dist-packages (from importlib-metadata>=4.4->markdown>=2.6.8->tensorboard<1.16.0,>=1.15.0->tensorflow==1.15.5) (4.1.1)\n",
            "Requirement already satisfied: zipp>=0.5 in /usr/local/lib/python3.7/dist-packages (from importlib-metadata>=4.4->markdown>=2.6.8->tensorboard<1.16.0,>=1.15.0->tensorflow==1.15.5) (3.9.0)\n",
            "Building wheels for collected packages: gast\n",
            "  Building wheel for gast (setup.py) ... \u001b[?25l\u001b[?25hdone\n",
            "  Created wheel for gast: filename=gast-0.2.2-py3-none-any.whl size=7554 sha256=d9873ee85795787536fa3d5189b421c6066de9e56d05ceb86a2314d5ed3faacd\n",
            "  Stored in directory: /root/.cache/pip/wheels/21/7f/02/420f32a803f7d0967b48dd823da3f558c5166991bfd204eef3\n",
            "Successfully built gast\n",
            "Installing collected packages: numpy, h5py, tensorflow-estimator, tensorboard, keras-applications, gast, tensorflow\n",
            "  Attempting uninstall: numpy\n",
            "    Found existing installation: numpy 1.21.6\n",
            "    Uninstalling numpy-1.21.6:\n",
            "      Successfully uninstalled numpy-1.21.6\n",
            "  Attempting uninstall: h5py\n",
            "    Found existing installation: h5py 3.1.0\n",
            "    Uninstalling h5py-3.1.0:\n",
            "      Successfully uninstalled h5py-3.1.0\n",
            "  Attempting uninstall: tensorflow-estimator\n",
            "    Found existing installation: tensorflow-estimator 2.9.0\n",
            "    Uninstalling tensorflow-estimator-2.9.0:\n",
            "      Successfully uninstalled tensorflow-estimator-2.9.0\n",
            "  Attempting uninstall: tensorboard\n",
            "    Found existing installation: tensorboard 2.9.1\n",
            "    Uninstalling tensorboard-2.9.1:\n",
            "      Successfully uninstalled tensorboard-2.9.1\n",
            "  Attempting uninstall: gast\n",
            "    Found existing installation: gast 0.4.0\n",
            "    Uninstalling gast-0.4.0:\n",
            "      Successfully uninstalled gast-0.4.0\n",
            "  Attempting uninstall: tensorflow\n",
            "    Found existing installation: tensorflow 2.9.2\n",
            "    Uninstalling tensorflow-2.9.2:\n",
            "      Successfully uninstalled tensorflow-2.9.2\n",
            "\u001b[31mERROR: pip's dependency resolver does not currently take into account all the packages that are installed. This behaviour is the source of the following dependency conflicts.\n",
            "xarray-einstats 0.2.2 requires numpy>=1.21, but you have numpy 1.18.5 which is incompatible.\n",
            "tensorflow-probability 0.16.0 requires gast>=0.3.2, but you have gast 0.2.2 which is incompatible.\n",
            "tables 3.7.0 requires numpy>=1.19.0, but you have numpy 1.18.5 which is incompatible.\n",
            "plotnine 0.8.0 requires numpy>=1.19.0, but you have numpy 1.18.5 which is incompatible.\n",
            "kapre 0.3.7 requires tensorflow>=2.0.0, but you have tensorflow 1.15.5 which is incompatible.\n",
            "jaxlib 0.3.22+cuda11.cudnn805 requires numpy>=1.20, but you have numpy 1.18.5 which is incompatible.\n",
            "jax 0.3.23 requires numpy>=1.20, but you have numpy 1.18.5 which is incompatible.\n",
            "cmdstanpy 1.0.7 requires numpy>=1.21, but you have numpy 1.18.5 which is incompatible.\u001b[0m\n",
            "Successfully installed gast-0.2.2 h5py-2.10.0 keras-applications-1.0.8 numpy-1.18.5 tensorboard-1.15.0 tensorflow-1.15.5 tensorflow-estimator-1.15.1\n"
          ]
        },
        {
          "output_type": "display_data",
          "data": {
            "application/vnd.colab-display-data+json": {
              "pip_warning": {
                "packages": [
                  "numpy"
                ]
              }
            }
          },
          "metadata": {}
        }
      ],
      "source": [
        "pip install tensorflow==1.15.5"
      ]
    },
    {
      "cell_type": "code",
      "source": [
        "import numpy as np\n",
        "import tensorflow as tf\n",
        "with tf.compat.v1.Session() as sess:\n",
        "  a = tf.Variable(0, name = 'input')\n",
        "  b = tf.constant(1) \n",
        "\n",
        "  mid = tf.add(a, b)\n",
        "  final = tf.compat.v1.assign(a, mid)\n",
        "\n",
        "  var=tf.compat.v1.initialize_all_variables()\n",
        "\n",
        "  sess.run(var)\n",
        "  print(sess.run(a))\n",
        "\n",
        "  for i in range(3):\n",
        "    sess.run(final)\n",
        "    print(sess.run(a))"
      ],
      "metadata": {
        "id": "XvzgkPK8M-WT",
        "outputId": "becf809c-4265-47f0-cae7-ba38c9b7a018",
        "colab": {
          "base_uri": "https://localhost:8080/"
        }
      },
      "execution_count": 1,
      "outputs": [
        {
          "output_type": "stream",
          "name": "stderr",
          "text": [
            "WARNING:tensorflow:From /usr/local/lib/python3.7/dist-packages/tensorflow_core/python/util/tf_should_use.py:198: initialize_all_variables (from tensorflow.python.ops.variables) is deprecated and will be removed after 2017-03-02.\n",
            "Instructions for updating:\n",
            "Use `tf.global_variables_initializer` instead.\n"
          ]
        },
        {
          "output_type": "stream",
          "name": "stdout",
          "text": [
            "0\n",
            "1\n",
            "2\n",
            "3\n"
          ]
        }
      ]
    },
    {
      "cell_type": "code",
      "source": [
        "import numpy as np\n",
        "import tensorflow as tf\n",
        "with tf.compat.v1.Session() as sess:\n",
        "  a = tf.constant(3)\n",
        "  b = tf.constant(5)\n",
        "\n",
        "  c = a + b\n",
        "  print(sess.run(c))"
      ],
      "metadata": {
        "id": "9iTQR_J8NY10",
        "outputId": "633b7f43-cb2b-4331-c1e0-f736be388811",
        "colab": {
          "base_uri": "https://localhost:8080/"
        }
      },
      "execution_count": 2,
      "outputs": [
        {
          "output_type": "stream",
          "name": "stdout",
          "text": [
            "8\n"
          ]
        }
      ]
    },
    {
      "cell_type": "code",
      "source": [
        "tf.compat.v1.disable_eager_execution()\n",
        "x = tf.compat.v1.placeholder(\"float32\", None)\n",
        "y = x**2\n",
        "\n",
        "with tf.compat.v1.Session() as sess:\n",
        "  result = sess.run(y, feed_dict = {x:[1,2,3]})\n",
        "  print(result)"
      ],
      "metadata": {
        "id": "wO3ooM-HNbn6",
        "outputId": "1d1a9e27-76c5-4520-bf7f-a77b12af588a",
        "colab": {
          "base_uri": "https://localhost:8080/"
        }
      },
      "execution_count": 3,
      "outputs": [
        {
          "output_type": "stream",
          "name": "stdout",
          "text": [
            "[1. 4. 9.]\n"
          ]
        }
      ]
    },
    {
      "cell_type": "code",
      "source": [
        "import tensorflow as tf\n",
        "a=tf.add(1,2, name=\"addition_1\")\n",
        "b=tf.multiply(a, 3, name=\"multiplying_1\")\n",
        "c=tf.add(4, 5, name=\"addition_2\")\n",
        "d=tf.multiply(c, 6, name=\"multiplying_2\")\n",
        "e=tf.multiply(4, 5)\n",
        "f=tf.div(c, 6, name=\"division\")\n",
        "\n",
        "g=tf.add(b, d)\n",
        "h=tf.multiply(g, f)\n",
        "\n",
        "with tf.compat.v1.Session() as sess:\n",
        "  writer=tf.summary.FileWriter(\"./logs\", sess.graph)\n",
        "  print(sess.run(h))\n",
        "  writer.close()"
      ],
      "metadata": {
        "id": "DdyjNSBaNeHS",
        "outputId": "69f0081e-6060-45ef-de11-554c4d643011",
        "colab": {
          "base_uri": "https://localhost:8080/"
        }
      },
      "execution_count": 4,
      "outputs": [
        {
          "output_type": "stream",
          "name": "stderr",
          "text": [
            "WARNING:tensorflow:From <ipython-input-4-47446f542e2b>:7: div (from tensorflow.python.ops.math_ops) is deprecated and will be removed in a future version.\n",
            "Instructions for updating:\n",
            "Deprecated in favor of operator or tf.math.divide.\n"
          ]
        },
        {
          "output_type": "stream",
          "name": "stdout",
          "text": [
            "63\n"
          ]
        }
      ]
    },
    {
      "cell_type": "code",
      "source": [
        "import tensorflow as tf\n",
        "tf.reset_default_graph()\n",
        "s_scalar=tf.get_variable(name='x_scalar', shape=[], initializer=tf.truncated_normal_initializer(mean=0, stddev=1))\n",
        "first_summary=tf.summary.scalar(name='First_summary', tensor=s_scalar)\n",
        "init=tf.global_variables_initializer()\n",
        "with tf.Session() as sess:\n",
        "  writer=tf.summary.FileWriter('./logs', sess.graph)\n",
        "\n",
        "  for i in range(100):\n",
        "    sess.run(init)\n",
        "    summary=sess.run(first_summary)\n",
        "    writer.add_summary(summary, i)"
      ],
      "metadata": {
        "id": "twGJMl6qNhVL"
      },
      "execution_count": 5,
      "outputs": []
    },
    {
      "cell_type": "code",
      "source": [
        "import tensorflow as tf\n",
        "tf.reset_default_graph()\n",
        "s_scalar=tf.get_variable(name='x_scalar', shape=[], initializer=tf.truncated_normal_initializer(mean=0, stddev=1))\n",
        "y_matrix=tf.get_variable(name='y_matrix', shape=[40, 50], initializer=tf.truncated_normal_initializer(mean=0, stddev=1))\n",
        "\n",
        "first_summary=tf.summary.scalar(name='First_summary', tensor=s_scalar)\n",
        "\n",
        "histogram_summary=tf.summary.histogram('histogram_summary', y_matrix)\n",
        "\n",
        "init=tf.global_variables_initializer()\n",
        "with tf.Session() as sess:\n",
        "  writer=tf.summary.FileWriter('./logs', sess.graph)\n",
        "\n",
        "  for i in range(100):\n",
        "    sess.run(init)\n",
        "    summary1, summary2=sess.run([first_summary, histogram_summary])\n",
        "    writer.add_summary(summary1, i)\n",
        "    writer.add_summary(summary2, i)"
      ],
      "metadata": {
        "id": "8lJb8awCNkO_"
      },
      "execution_count": 6,
      "outputs": []
    },
    {
      "cell_type": "markdown",
      "source": [
        "![photo_2022-10-21_15-30-05.jpg](data:image/jpeg;base64,/9j/4AAQSkZJRgABAQEAeAB4AAD/2wCEAAQEBAQEBAUFBQUHBwYHBwoJCAgJCg8KCwoLCg8WDhAODhAOFhQYExITGBQjHBgYHCMpIiAiKTEsLDE+Oz5RUW0BBAQEBAQEBQUFBQcHBgcHCgkICAkKDwoLCgsKDxYOEA4OEA4WFBgTEhMYFCMcGBgcIykiICIpMSwsMT47PlFRbf/CABEIAYECzAMBIgACEQEDEQH/xAAwAAEAAwADAQEAAAAAAAAAAAAABAUGAgMHAQgBAQEBAAAAAAAAAAAAAAAAAAABAv/aAAwDAQACEAMQAAAA/NiEJqEJqEJqEJqEJqEJqEJqEJqEJqEJqEJqEJqEJqEJqEJqEJqEJqEJqEJqEJqEJqEJqEJqEJqEJqEJqEJqEJqEJqEJqEJqEJqEJqEJqEJqEJqEJqJ9JSEJqEJqEJqEJqEJqEJsiqtCr9U8rsj1648buyg3+Snm6eZ8jdTfOO8gZa8owAAAAAAAAAAAAAAAAAAAAAAAAAAAAAADUxeXA6qaxrjeTvN55XA1oMkDeYO/oBaVdoVYAB9Pj0XHlUtRVLW6MgtBVrQVa0vTHLXtKVaCrbajKVaiqWtyZFaCrWgq1pbmUWoqlqKptc8Va7FItfhVtpSlKtRVLucZZd39mFWiWrekUlmSWiWrWgq25zRVrQVa0sjMrnrKpaiqWtsZRaiqWoqm2zpVrQVa0FW2dAVa0FWtBV2lXaFWAADb4jb4gAXtFelEABf0F+UEqLKIoNLS3VIRQLKt0RQcJMYAXNNclMADR+W+peWkvt/S1ofj2X67WGOzv7CzJ+bu/wDZfiJ4tZ/rvxY85o/1d1n5Hfsjy48u9C8y9is88EoGnzGnzAA0mb0xRxZUUAXFPcFOADSZvSZsAA0Oe0OeAEmNJI1pV2hVgAA2+I2+IAF7RXxQgAX9BflBJjSiKDS0V7mjnwlRRps7fFPFlRQBc01yUwANH59sqwyDXDLdW36CmqPWsmU/T6PlrKDh61QGQp/XseZFrktf6rhdxqeeDNA0+Y0+YAGmzOmKOLKigC4p7gpwAaTN6TNgAGhz2hzwAkxpJGtKu0KsAAG3xG3xAA2OO31mBdvVKAv6C/KCVFlEUGlzWlzRLiSopLsK/W1kYujzkALmmuSmABZVumzIAlRZRoq6y67KSCS23ovld/rNRAlRc6Ak6XK8074Opy1BLp8xp8wANNmdKUkWVFAFxT3BTgA0mb0mbAANDntDngBJjSSNaVdoVYACdzNNiNviABr8hojopNbkrAlX9BflBKiyiKDS5rS5olRpPeT7eHX2XeJvYhWiVc01yUwANZk9bkgBLidhqOHR81M8M37f5/TFHF7eoA+21TpDnl9Rl7Al0+Y0+YAGmzOmKOLKigC4p7gpzmcHPgaTN6TNgAGhz2hzwAkxpJGtKu0KsAHslH5uPR8hf4guFOLi7xl6aPL3eMsuFOluLzF350dtFKJynHqdDceZaz6FJ80mrLucdd5vHV+d6yyrQYstxb5C5PinFwpxvc1a5IuFOLhTj1rz7aeZWXCnS3Ggw+oK9Ti4U4ub7E6Qt85BsbOtTpd5m5+YLhTi40GH0xF41HYWKnFxbZG4HdQyi06YMU3OemZsuFOLhTjbUMnPFwpxccamSRrSrtCrAABt8Rt8QAL2ivC2xuwx+oGav6C/KCVH7yNf0Gps7shpc1KAu6S7KSVFlmgymnzFi5prmWmABrMnrckDvOi2uaay8xuizqhC3qLMrAAfdJm9IZrUZfU2ZYS6fMafMADS5rTGZlRZRFAuKe4Knv8AsYkdHGUXWb0mbAANDntDngBJjSSNaVdoVYAANviNviABeUd6W2M1FBZGEq/oL8pOX3qOOpzGls45rS5qUBd0l2UkqLKLvOSLazP3NNcy0wANbktbkhsMrfWZsS6POaPOAC3qLcqAAfdJm9IZrU5bT2Zhy4y6fMafMAHLRUN0Z+VFlEUC4p7ghRJUUS4kous3pM2AAaHPaHPACTGkka0q7QqwAAbfEbfEAC9or0hz6m/sywlX9BflVGkxTSUOjy1mlzWlzUoC7pLspJMbkfNNQaGzLXNNcy0wHPh3mjyunzBp81qMrYEujzmjzgAt6i3KgAH3QZ+8KaV0xy6pdRl7NPmNPmJQJFtV2RRy4koigaHPaIz/ABaizMNNyOzJem4EgCUDQ57Q54ASY0kjWlXaFWAAeumZxHp+WMy0wzN7JuDF3vK+s84aZLmb/vuTFRdRyPmW9Co7Pma9FoJcy0wzN3LtzBNMKO95XtnnNzNtJcK0wzMq85nVm/Q+grcrsYlmZaZLwznodEZlphmbefZmGaYZlphmrqXbGNi6ngcsv6Nn7PuY9Hz0uZaYUVnMtTBSrzmZZphmbSytjEaPR5qzMtMliyb+lqPndp2phmmS9We9CozMtMMzJvYpR2lXaFWAB9+Db4jb4gAXtFelZe5/SamUGavqG/Kq8pL+zMcCXS5rS5oAXdJdlICXZ1fRZImzoRTCVKiyi5kdHbZlhKBos7o84ALeotyoAB9uqW6K6LKimoy+py1mnzGnzEoEqyrbIo5EfkfeHf0Eq6pttZn88SgaOg0GbJMaT0nAGhz2hzwAkxpJGtKu0KsAAG3xG3xAAvaK9KXW4/R2ZxOgyr+gvyqvaG/sy4l0ua0uaAF3SXZSAlRZUU1NfPr7KcSpUWUaaqt8bYEoGjzmjzgAt6i3KgAH26pborosqKWfKq09jMafMSgSreo2dmOh6OQZ7r79YRYlLOKcSgaTN6TNjs6wBoc9oc8AJMaSRrSrtCrAABt8Rt8QAL2ivSinQZRdZvUZexf0F/LVX1La2ZwS6XNaXNAC7pLspASovb9NHXWECymEqVFknoXmnpfmlgSgaPOaPOAC3qLcqAAfbqluiuiyox81GX1FnzMafMSgSt3hN1Z532daXa5f7Hs6binuJacAGkzekzYABoc9oc8AJMaSRrSrtCrAABt8Rt8QAL2ivSilRZRfZfU5axfUN9LMz2pxuoGbpc1pc0ALukuykB9kRpJJvchvLMGJVlW7CrPzzTZmAANHnNFnQBb1FuVAAPt1S3RU/eqSRdPmNTZxzGnzEoEvcZS/sxAlnwAXFPcFOADSZvSZsAA0Oe0OeAEmNJI1pV2hVgdvUPS6uHCNhk7XEmhZ4aG5wt4dvPNSjc56BzsmXeCv5dTmZ+P1NCzzN9Cz3PNmhZ4aG4w12dzOjRdmZllvpvON/ZQs98l0Wl842Vk+g+5yXRM6NEzo9AoWeNCzw0NpirYls8NCzw0Vvhro7+ealFxbYj6enZHV+ZWaJnUvo0WNUanczzN0LPDQ2uJtyUzw0LPD0HP8s2aJnRomdG/ovmfNCzw0MemkEa0q7QqwAAbfEbfEAC9or0opUWURdRl9TZlr+gv5bPG6zJ2BLpc1pc0ALukuykAlRZRFv6C5Jma1WVsayDBLPOaPOSgAaLO6LOgC3qLcqAAfbqluiklRZRFB6P5xt8RYPsuwqrapsoxKAuKe4KcAGkzekzYABoc9oc8AJMaSRrSrtCrAABt8Rt8QAL2ivSilxJJG1GYv7M/qs9vTL0Pf0QC6XNaXNAC7pLspAJUWURbmmuTsgwNXZ2ZPX440Wc0eclAA0Wd0WdAFvUW5UAA+3VLdFJKiyiKD0jA3vZZlOzru1nQoU1KMSgLinuCnABpM3pM2AAaHPaHPACTGkka0q7QqwAAbfEbfEAC9or0ou3q+nZw74xptRmtPrPmHwzoDS5rS5oAXdJdlIBKiySNc09wU2py0mzVYy8ozR5zR5yUADRZ3RZ0AW9RblQAD7dUt0UkqL3HS58DT8+FBZH1sWfZjrujvM6owALinuCnABpM3pM2AAaHPaHPACTGkka0q7QqwADkbXEbfEAC9orwowSosqKajU5bTbz5iMaA0ua0uaAF3SXZSAdnWO+ygTymBKiyopo85o84AAaLO6LOgC3qLcqAAfbqluik+/BJjSopp8xp8wavvp9HvOCvKO8xqjAAuKe4KcAGkzekzYABoc9oc8AJMaSRrSrtCrAABoeqk+F4oxeW+M15WKMXijGon5LQEFRi8UY2dRqfOi8UYvLDJ64h9PZny8UYvL/CelGRUYvFGPQay1oSMoxeWeQujS5y/wheKMXmhwXpRmo3KhLxRjZIeoMaoxec6Aen4z0/xcuVGLzR4D0Mg019hS8UY1egxu5MSoxeKMb+r0mcK9Ri8sMnfFlV3eILxRi8iV3I42lXaFWAAAAAAAAAAAAAAAAAAAAAAAAAAAAAAAAAAAAAAAAAAABaVdoRkkRkkRkkRkkRkkRkkRkkRkkRkkRkkRkkRkkRkkRkkRkkRkkRkkRkkRkkRkkRkkRkkRkkRkkRkkRkkRkkRkkRkkRkkRkkRkkRkkRkkRkkRkkRkkRkkRkkRkkRkkRkkRkkRkkRpXwcgAAAAAAAAAAAAAAAAAAAAAAAAAAAAAAAAAAAAAAAAAAAAf//EAFYQAAEDAQMCDBMGBQMCBgMBAAECAwQFAAYREiAQExQhMVNVcnWis9EVFiIyNDU2QVFhY3GRkpShsbTTI1Jzk7LBB2J0gYIkM0JggyVDRGWEpDBkcMT/2gAIAQEAAT8A1b5Bvjc9tW+Qa43PbVvkGuNz21b5Brjc9tW+Qa43PbVvkGuNz21b5Brjc9tW+Qa43PbVvkGuNz21b5Brjc9tW+Qa43PbVvkGuNz21b5Brjc9tW+Qa43PbVvkGuNz21b5Brjc9tW+Qa43PbVvkGuNz21b5Brjc9tW+Qa43PbVvkGuNz21b5Brjc9tW+Qa43PbVvkGuNz21b5Brjc9tW+Qa43PbVvkGuNz21b5Brjc9tW+Qa43PbVvkGuNz21b5Brjc9tW+Qa43PbVvkGuNz21b5Brjc9tW+Qa43PbVvkGuNz21b5Brjc9tW+Qa43PbVvkGuNz21b5Brjc9tW+Qa43PbVvkGuNz21b5Brjc9tW+Qa43PbVvkGuNz21b5Brjc9tW+Qa43PbVvkGuNz21b5Brjc9tW+Qa43PbVvkGuNz21b5Brjc9tW+Qa43PbVvkGuNz21b5Brjc9tW+Qa43PbVvkGuNz21b5Brjc9tW+Qa43PbVvkGuNz21b5Brjc9tW+Qa43PbVvkGuNz21b5Brjc9tW+Qa43PbVvkGuNz21b5Brjc9tW+Qa43PbVvkGuNz21b5Brjc9tW+Qa43PbVvkGuNz21b5Brjc9tW+Qa43PbVvkGuNz21b5Brjc9tW+Qa43PbVvkGuNz21b5Brjc9tW+Qa43PbVvkGuNz21b5Brjc9tW+Qa43PbVvkGuNz21b5Brjc9tW+Qa43PbVvkGuNz21b5Brjc9tW+Qb43PZWBOI2CAR/f/osIWrYSTbSnPuK9H/5u8nep+GhcCiUio0C9M+bEpzz8IwRHVUH3mGEaetYXiWVo1yBY3EoMyg9HJklqBHZgyZTgprS5IWUzTFSlJfe10+A2o/8ACy5qKrTkTKxNnxJKH0h2Kw2Y7jiIxf6l5Dxwww61WC7UClU+tXjiU12ophQ33ygy3wE5CO8VAqABPnwtVv4YxYKI7zNQlFt6o0+IkPxktnCaHMVhSFrQsJ0vWUgkG0n+Et24BdZmXhnJfbgz56g3CQtGkU+QthQBLqTlqCMQLRP4R0CQqmqXeCYlmqzoUWnlMNBVjOYD6C8C6AnJxwOBNo/8MaHMEaVErM5yAtqZpi1RWWVpdhuoaIJdeS2lCssEFSxad/CKi0mpQKVOvC+J1RqUmFDKIqSzizk5KnFlzWyi4LXsu05dSbCgPvFUxcFl+U0U5OkOPYqDXjITgT/0BUJdSisxFMSVtsiOwnJSvDqlIx2LdFqpLfCI0l9vqOtU8T1oxJxOFq/22keMIPEGhcBmpmpTJEJLJDMGRlB3SzitTatKCQ7snLAt/EFirhigv1BDKVmGW3UoDSFpkJWrLC0t+LDRYkXYYupOZIeerElbBQVMpCGA0s5QQ5jj1YOva8j115bMORSS83J0hht9gsJbaCkNgLWFBRJKlDRuCxPfm1ZMKnQpixS3ysSyAltOt1acf+Q0e8nep+GhGq9QiU2fTWHsmJOLJkt5KTllglSNcjEYE96zd7rxNUfoOidhA1OY+lBtH+0XtUFOVhj1+vZf8T76uSIMhVRb02I8XkqEZgF10oLRW/gj7VRQSCV42Yvk5Clon06jU6FUULy0TGdPy0qPXENrdU1grYKcjJws3/FK+rUhx5E6OAptpCGdRxyw0GCVNlpooyEKSVEgpFpd/L1znXHZFRy1uQ5MNR0loYsTHFOuo1kjrlKJxs3f69rSKYhFSwFNfjvxPsWvs3IqA00et18lI79qbf69NKZSxHmNlgad9g9HZeaVqhSXFlSHEKCuqQCMdi0i/NVrtWp0u8sh+azEkrkBDGlRXMtYTiUrQjWJKBa8tel3nr9SrMs/bTJC3SMcckE6yfMka3/QD5pU5Mdbk5TS0MNtqRpRVroGGyDZ6PRHF4on6WMAMlLKyOMTarSWpdQeeaJKDkgEjAnJSBoIVkLQr7pBtV5/RSrT5+l6XqqS69kY45OmqKsMdFq9kkXVl3fkNIdaUtpUZzJQksZCytYxCcVZePfNrx3tmV6NChaWhmFFZZShoIRjltt5BWVhIUcrwHRoEqgxHpaqxCfkoXFcQwlpwt5Lx61RwI1tHvJ3qfh/013k71PwzidYC176nUogu63HmvtI6AwTkocUkYlJ7wt0crW6cv8AOXz26OVrdOX+cvnt0crW6cv85fPbo5Wt05f5y+e1KrNYVArxNRlEpgIKSXl6x1SyLdHK1unL/OXz26OVrdOX+cvnt0crW6cv85fPbo5Wt05f5y+e3Rytbpy/zl89ry1msIrs9KajKADmsA8oDYt0crW6cv8AOXz2aq1VcQ8pyfJWUJykYuqOSrHZGvrG3Rytbpy/zl89ujla3Tl/nL57NVirm6UxfRGVlCpxgFaavEAtO2NXqwYQ4ifJSorIWoOqBUe8Tr69ujla3Tl/nL57dHK1unL/ADl89ujla3Tl/nL57XcrVYXeGjoVUZRSZ8cEF5ZBBcFujla3Tl/nL57dHK1unL/OXz26OVrdOX+cvnt0crW6cv8AOXz26OVrdOX+cvntNrVYFMpRFRlAlD2J05e2Hx26OVrdOX+cvnt0crW6cv8AOXz26OVrdOX+cvnt0crW6cv85fPa7dZrC5kwKqMogU2cRi6s64jrIt0crW6cv85fPZir1l1zA1OYEjXUdOXsCzFUnuPrwlPJJCy3gtQyVHXxHjPft0crW6cv85fPbo5Wt05f5y+e15azV258cJqMoA06nnWdWNcxmybO1aqtBopnyQtbYK1B1QKvBicbdHK1unL/ADl89ujla3Tl/nL57OVaqtoZU3Pkoy0kqyXVDKVjrk4HZtFrVYNKqRNRlYhTGB05eIxJ8dmavVXg6HJ8lYS2VAKdUQCNg7Np9WqsC71LZM+Tp8ta5S1F1WWlsfZtpBx2DgTbo5Wt05f5y+e3Rytbpy/zl89mKnUK7SGYzc+Sipxmitoh1SdUNI2Ua2y4NkWvHWqwi8NYSioygkTpAADywAAs26OVrdOX+cvnt0crW6cv85fPbo5Wt05f5y+e3Rytbpy/zl89n6zV+k+nOdEZWWarMBVpqsSA0xbo5Wt05f5y+e3Rytbpy/zl89ujla3Tl/nL57dHK1unL/OXz2pU+p1CYiO/NkutqBxQt1SknDxGz9YrDTziE1GUlKVEAB5YAHpt0crW6cv85fPbo5Wt05f5y+e3Rytbpy/zl89ujla3Tl/nL57VGtVhMOjEVGUCqEsnB5eudUOi3Rytbpy/zl89ujla3Tl/nL57dHK1unL/ADl89ujla3Tl/nL57UKs1dcSvlVRlEppmIxeUcDp7Vujla3Tl/nL57dHK1unL/OXz26OVrdOX+cvnt0crW6cv85fPbo5Wt05n5y+e156zWG63JSmoygAlrWDywNdtNujla3Tl/nL57dHK1unL/OXz26OVrdOX+cvnt0crW6cv85fPZ+dNmQ1apkvPZLqMnTFleGIVsY6HeTvU/DPvv193eAIP6Tm0nsCv8Ho+aZzr0dv6h+L+w0GP9iSf5U+86LPcfN4Vjck7ZvqojyfuqSr9syjrdZqkR9rDTGXUOpxGIxbOULOoyHFo+6ojNndq6TvHuUObdjsybwXP+XXaa6tyS7lE6yiB4gDZmk1R+mTKgxDeXDilsSn0oJbZLxwQFq72Udi0i79bgsQ5b0F0NSYmrGVp6sGOFlsuHJxyU5Qw17ODBZtTaZUaxNZg06I9KlvKwbZZQVrUfEBa9d3a5dyoNRqvT34jqozKkB1OAWAgAlJ2FCzvXAeAAWpVLn1upRKbT2C9MlOpaZaBAK1r1gMSQLVShVajJhKnxVMiYyXo+JBy0JWpokYH7ySLSo0mIrSJLLjLzaiFtuJKFJ7+uDahUSr3gcegUmE9LlKAUGWklaiE65OAtV7m3pu0YyKzSJUEy8RH09so0zJICsnzY2qDiVy1hB6hGCE+ZOto3fmyY0hlbThBaVpiP5VJIIItfqnCl3rqbCTilTpcB/E6o5r/cXTeFpvIsZt1UhVXRjtbnuTab2Qo+EA+kZtT7Con9Cv5h3NoHYd4eCz8w1nXq7eyt6zyac1PYbv4qPgrQ7yd6n4Z99+vu7wBB/Sc2k9gV/g9HzTOdejt/UPxf2Gg3rRX/GUDRZ7j5vCsbknbRdcup+82oD45l2WkKq1OCxrOzo7XnCnBjaYAJCyNhWCvWGObO7V0nePcoc27HZk3guf8uuzwBlvk7AWon02ua5dmiXcoVzKtVAw/eeK+7UGQzpqMqoANwitzEZBZyAu0BdQg0dFDjohuzk/w7mNFpbLD6i+xUDigF0HvYkpt/BytXPpNUnuVyM7py6TUm0STORGayVRVp0nIW2vFxzYScbfw6lY38deu7HiMIchS0MwKpJKxJQ4yULjB5CWvtHASEHWtJuzTorERhlgJrHQSW7Sbq1V5mciHKy2gpxAUAF5aMooQsa5TapiDRrvSHK3RbtxqjJr1LhzzGisvKjRno61PFKSFBl4hIKwjWSbUijU6FfEyanSaPTokW9cHpZfhtsNGRFK1hWK2td1vIyVZa+/b+J8tphy4EyKWlIaprh6tKHkJUJz6slaVgg+Y2vtAn1Gu3omUeiUipVt2rQVMpfiRHgaQpknTkJcGSoKc1ludcBZ25FIvb/Fms3du4+wxSVTydOQoFtlhvXdLf3gNcIsilVl6vVRUi7rTDEChPR7n02YWHkaY0tH/AkpW8oFSyFbKrTaDTREnmi0Sjv376FUwzKbqeO8ywta16oWzHWC1puARlpA6mz0a51LqENECk0BwS77QYU0Lix5SG2nYjRkstFwLyGw6Va6bX/FHnXOqExqnUyNKg3ylU+MYcdqOTCS0VJSvSgC5v1Ym1EGLrniTj6SLfxBJlTmpyuuL0yMr/4zygnikZr/AHF03habyLGbdTtqD5NY9INpWuWVfeaT7tbNqfYVE/oV/MO5tA7DvDwWfmGs69Xb2VvWeTTmp7Dd/FR8FaHeTvU/DPvv193eAIP6Tm0nsCv8Ho+aZzr0dv6h+L+w0BrQ1nwuj3A6LPcfN4Vjck7aKrIktH+YD02cTkOLT4CRo0HqK/d9vwTY6j/k4LStcsq8LSebNndq6TvHuUObdjs2ZwXP+XXao02U1IWlCMrKOWSPCrXw/tbUEzaTYQJg2GlWRTpq21gMqOT1VtQTNpVafSakicwhcdYUY0ZYHiU0lQNjBmEk6SbdCqjHo+nmOoJlPFCSe+Gtc4f3NoMSSvGI60Q26RgSR1C+8rntIolWhOyY0iMtDrJAWk96zNNnmHKWGFZKS3ifBiTZ2k1OJR2HFx1JTLcKkHEdUlvW+NtQzNqVbUEzaTbUEzaTaiQnmtVLcTknSxgP8hjavHVcO8rZ2YVdcdB/lfUpBHpAzX+4um8LTeRYzbra08H+3FUbP67EY/yqHoObU+wqJ/Qr+YdzaB2HeHgs/MNZ16u3sres8mnNT2G7+Kj4K0O8nep+Gfffr7u8AQf0nNo6VLg19KRiehyT6slknOvR2/qH4v7DQ/8ARf8Ae/bRZ7j5vCsbknbA4HG0wDVCiNhQCvSMdBpGmOoR94gWoK9MvVSVd7ohHA8wcAFndeKwfAVp/fNndq6TvHuUObSZbsJ955rAK1O6jX+64kpV7jZRKiVHZJxOjEUEvpB2FYpP+WtZaShSknZBwtXNaqsq+7SIJ/8AqN6F6cYrlPpWJBgw0IcR3g879ov46GWm8FFcf2ahAjZD3hejp61fnRsG0FCnKZUUJGKlLjgecqNr4LS1Ki09vDSoLIjp8ZR15PjKscyH16x4W1CyRqm817YB19U6uCU+Fxlwup/Tmv8AcXTeFpvIsZt2dacz43DyarL6qI0furUPTgc2p9hUT+hX8w7m0DsO8PBZ+Yazr1dvZW9Z5NOansN38VHwVod5O9T8M++/X3d4Ag/pObc1vTn6yzhjl0iSPgc69Hb+ofi/sNBWtDb8bij7hos9x83hWNyTuhI6puOvwoyfVOGhF6gOu/cQcD41awtdnukovCEblBYdVDUPuuA+sM2d2rpO8e5Q5tMZL65KRsiK8v1E5WYCQcRaXgXQsbDiQq14daVlf+1U0emM3a7cNE6twWXMNKDmmOY/caGWr3C1TmrqVQlzFjBT7y3CPBlHHDQoU56nVWNJawKkKOsdhQIIKT4jakU2FEel1iOCaWEJmtjvpLOJLR/mSrAea091x5bbjhxWtJWonvlaiTmQzhJa8Zw9OtZFQDN+FzUnJQaotR3jjhBHoNqpFEKpTYo2GZDjY8yFEZj/AHF03habyLGbdvsyN43V8mbJ14Sx4HUn0jNqfYVE/oV/MO5tA7DvDwWfmGs69Xb2VvWeTTmp7Dd/FR8FaHeTvU/DPvv193eAIP6Tm/w7ITWZClDqdTBJ8zrzbZ/VZ9osPusq2ULKT50nDNvR2/qH4v7DQd1osYb8+/RZ7j5vCsbkndDroY8KHPcoaCjpcRA77iyT5k6wtcqlNu1OFUZiy3GamMoZ8LsgqGQhPiGyq1YpiaXMnRm1ZbCkIejr++yo4pPoObO7V0nePcoc27DYW9UCRsU6b8us5quriIPfbWQfMrXFrzdS60fvQaaPREbNqIDDo9bqJGCi0iIyo99T56vDxhIOjGOTIaP84tEnS49CrUFDpDK3WcpPjyjzWl4h1KfutoHuzGVZLrZ8ChaV2S8fKK+Nr3YO1NiaMP8AWw2JBw+8pOSr3jMf7i6bwtN5FjNu6cJ0IeFx0+huzOvHkp8SVeg4ZtT7Con9Cv5h3NoHYd4eCz8w1nXq7eyt6zyac1PYbv4qPgrQ7yd6n4Z99+vu7wBB/Sc26D+pXqk/tcZlXols2vIwY14Ko0e9LdI8ylEjNvR2/qH4v7DQf1mYw/kPvOiz3HzeFY3JO6DHVMyEfyhXqmwBJAFoVLVVahpGmBqOw2C+8rrWm0dcea0SqoqF6aCzFbLUCNOjojNeAaYMVK/mVsm0UCsXeJ2ZVNCkK75VGd1x6is2d2rpO8e5Q5t1Rr1Lg+b8s5mxer01r76Dh5064tevWegjw0+Cf/qtC1UOorvUeBhg48XJrnmc6hv3J0QcCDbDCHWB4XGD6SbTDjJd8Rw9GYNkWr0bUdYnR9reUn1Thaof6m69GkDXMd6RFWfOQ6ge85j/AHF03habyLGbQdaoU3/vnim0XXD48kr3ZtT7Con9Cv5h3NoHYd4eCz8w1nXq7eyt6zyac1PYbv4qPgrQ7yd6n4ZvQypagFR1FI1EV5GqdLVpWX93Lwwxs/R6vFgsz36fKahvEBqQtlaWnCdcZKyMDa+/X3d4Ag/pObQThGrf9E182za+oxrqntvjR3PS2Bm3o7f1D8X9hoSdZMceSHxOiz3HzeFY3JO6EPXfCO8tJT6RalQ3509iOygrcUrqU+E2rctiBFNEguBaQvLmvp2H3h3h/IjvWuz3SUX+vjcoLXbnpp9XYU6MWHsWHx4WnepV6NkWq9NdpFSkwnNctLISr7ye8r+4zJ3auk7x7lDm3X2J3jgzvll5rK9LdQvwEG1Ry6rVoUdHXLbjx0f2AbFr1PoerstDWszHIjtDHHBDAyB8MyOnLiTT98xD7zZ9WU84fCsnMGyLXvA6ZKmR35T3uWRamK1TdutxNlTKmJSE71WlqPoVmP8AcXTeFpvIsZtC7Z0wfyO/BVoeu+E/eSpPpGbU+wqJ/Qr+Yd0G0KcWlCdlRwFnEKacUhWyk4HQoHYd4uCz8w1nXq7eyt6zyac1PYbv4qPgrQ7yd6n4ZrF6rvP3PRTHpy2Xl0dqmLZLSlpbWmdqov62sU5P98bXhr1JqV0adEMluRPj6kbYyI62VsstNKS6h1WJSvFWGQRa902MwLuocpsZ89AYJy3FPA9afuLSLdE4W4kH15H1bdE4W4kH15H1bdE4W4kH15H1bdE4W4kH15H1bUqpRDBrpFIhowgIOsp/X/1LPhcNrxTWNS0aS5TYz+XE0rKcU8DjHWUf8FpFuicLcSD68j6tuicLcSD68j6tuicLcSD68j6tuicLcSD68j6try1GGiuz0mjwlEObJXIxOt4nRbonC3Eg+vI+rZ2oRWygKpURzFAIylP9SDr5IyXBrC3ROFuJB9eR9W3ROFuJB9eR9WyZDNNuMid0IgETJ6UllQdWnICVgKBUskKxSbRavc5zqZd3S2dsakOrA/wKk/GwZuzKI6Hu05t0nWTJTJYI8YWXVoxs/Kg3WhqUzFhOVJ/LaUppx1aEsq8JDnXq/lwwt0ThbiQfXkfVtdyow1XhpCRR4SSZ0cBQXIxGKxrjF2wqkMHEUWED4QqR9W1RkRJtGanmnRpEmItMaRll0HSiPsl9QtPmJt0ThbiQfXkfVt0ThbiQfXkfVt0ThbiQfXkfVtNqMMUylHoNCIKHtbLka32h8rbonC3Eg+vI+rbonC3Eg+vI+rbonC3Eg+vI+rbonC3Eg+vI+ra7s6MXpChTIqUmnVDqAp7J6lhWvruE6+wbdE4W4kH15H1bdE4W4kH15H1bdE4W4kH15H1bdE4W4kH15H1bdE4W4kH15H1bNyYUWsKnJpUNpEGjRZOWNNx0xcZGQkArIxKlWNUhHZosH15P1bdE4W4kH15H1bdE4W4kH15H1bdE4W4kH15H1bQpTDlNlYQI6cvScCC71GClaycV7A8duicLcWD68j6tuicLcSD68j6tuicLcSD68j6tuicLcSD68j6thU4WPaSD68j6trzToyK5U1LpcR3GdJAylPDDJcP3XBs2urUob1V1GKXEaExh6OSkvnErQcEnKcOsTY1KGCQaHCBHeKpH1bdE4W4kH15H1bdE4W4kH15H1bP1GJ0o09fQeHgarMARlv4AhpjytuicLcSD68j6tuicLcSD68j6tuicLcSD68j6tuicLcSD68j6tqHOjCrQgaZFOWhak4qe6gFKtZP2nxs1UYi3UJTSYbaiQAtKnyU498ZThFlVKElSk9BYRwP3pH1bdE4W4kH15H1bdE4W4kH15H1bdE4W4kH15H1bVGpQxDo5NGhHGGogFcjW+3d8rbonC3Eg+vI+rZuoRSlxxNJiNlABBSp8kk97qnDrGzk+LkodVSYjmmYklSn9YjvDJcGsLdE4W4kH15H1bUOow1RK+RR4acKYSQFSOq+3a1ji7bonC3Eg+vI+rbonC3Eg+vI+rbonC3Eg+vI+rbonC3Eg+vI+rbonC3Eg+vJ+ra81RiIrckGjwlHJa1yqRtafA6LdE4W4kH15H1bdE4W4kH15H1bdE4W4kH15H1bdE4W4kH15H1bSZTEmGdKgsRsl1OOlFw5WIOzpi1aHeTvU/DPvv193eAIP6Tm0nsCv8Ho+aZtWsX7s0l3vNSX2j/mlCxm3o7f1D8X9hoTNZ7DwJQOLo3nOkXfdpw6yBLgMf5aQ6tZ9Y6MuQl8NBPeT1W+0Ls90lF4QjcoNCiSo6aimLLVhEqEcMPHZySrrF+dKgDabDfp8x+I+AHWXChWGxiNGd2rpO8e5Q5t3tZxzgupcgvOvN/oKC0sYhypMU5GvtUaI2db/ACVm05f/AIJNV9wgfE5o2Ra9GvWKqfu1OWPSsm1Pk6inxJW0vIc9Qg2vLF1HX6i0AAnT1LRh9xzq0+46L/cXTeFpvIsZtG7dwB4GjyZNm1ZDiFeAg2lJyZDo/nOZU+wqJ/Qr+Yd0F4NxG099aio+Yawsj7SK4jvtkLHmOsdCgdh3h4LPzDWdert7K3rPJpzU9hu/io+CtDvJ3qfhn336+7vAEH9JzaR2BeDg9HzTNtd+6c1HeZkxHh/mhTZzb0dv6h+L+w0JvZTnnHw0LrxmpVfgIew0pDumuY7AQ0Ms4+LAWkSlzruVaUvrnq0w4fOtt05t2e6Si8IRuUGg9rx46u+MpJ/sbVtAqVMgVtKsXFDU0vw6c0OpWd+nRndq6TvHuUObQNaQ4P8A2ioH0sOZtMos+qlRZQEsI/3X1nIabHjUbX0klUynQw7prUSmxEIWBgFhbYWFAeMEZsR9SKZMbGwognNGyLXj16vXh92pvn0rUNC8mMlujzx1siA2hR8pHJaV8Bov9xdN4Wm8ixm0cYXhjjwJPJnQma8hR8ISfdmVPsKif0K/mHbJSVKCRskgWlqBeKRsIAQP8bRFBLyQrrV4pP8AlrWWkoUpJ2QSDagdh3h4LPzDWdert7K3rPJpzU9hu/io+CtDvJ3qfhn336+7vAEH9JzaT2BX+D0fNM2pOMmjViMNlVPS77M8Cfcc29Hb+ofi/sLJ64ee0vsp7fHQon+kpFcnq78dMRvxqkHX9CUmzPcfN4Vjck7m3Z7pKLwhG5QaHXQvGl33KFrvjVMCuwj/AM4Onp38ZQV+knRndq6TvHuUObQ9aa8PBRZvy6zox40iW8hiO0t11ZwShAJJt0LpNBGVV3NUzO9CYWMEHwPL729FqlWZlUCEOZDcdsktx2U6W0jHwJHxNr0dsY/BlO+VbzYrYVTKgsk4pLIH+ROaNkWr+vXLxJ//AHnj6HToOHVdz2CD1cGcpBHgRITlA+lJ0X+4um8LTeRYzaR3Rs+dfJnQla+kq8LSfdrZlT7Con9Cv5h20TAOFw7DaSr+/esSTrk22LS8FLS6NhxIV/fYNqB2HeHgs/MNZ16u3sres8mnNT2G7+Kj4K0O8nep+Gfffr7u8AQf0nNpPa+8HB6PmmbXUxckiOP/AD4U1rDw4tlWbejt/UPxf2FmRi82PCoWkHGQ8f51aE8GDdilxceqlvOy1+IJ+yQPcTZnuPm8KxuSdzbs90lF4QjcoNBnXjyE+JJ9BtdBxCbww23OsfK2D/30lA+NloU2tSFDBSSQR4CNCd2rpO8e5Q5tE7ZzR4KTN+WVorlvUO70JERZZk1DTXX3E6zmkpVkISD3gSCdG9HbGPwZTvlW82J2pqe+Y+JzRsi1b17yV9PhlS+UJ0KAFSqbX4A2VwxIT54ygoj0E6L/AHF03habyLGYkZSgPCbUY43jb37v6DoPa8eMf5VD35lT7Con9Cv5h23+3E8bq/cnR/3InjaXj/ZVqB2HeHgs/MNZ16u3sres8mnNT2G7+Kj4K0O8nep+Gfffr7u8AQf0nNpPYFf4PR80za7D5j1WkODvT0IO9cwSbTWDFmSWNqdWj1ThmXo7f1D8X9haKMZLO/TZZxWo+EmyEKcWlCRiVEADwk2vasJrCoSFAtQWm4rYHe0tPVcbGzPcfN4Vjck7m3Z7pKLwhG5QaETXW4n7zSh+9oT5izY0gHXaeQv1Tja9bAjXjqiBhgZC1pw2MHOrHx0J3auk7x7lDm0XttUeDJ49EZehHYclSGmGhit1aUJHhKjgLXrkoerTzLR+xhoREa3rAyPedG9HbGPwZTvlW82J2pqe+Y+JzRsi1Z7q6wPvTpQ9K1aFzlI6PxmVnBMhDrB87qCke+ykqQpSVAhQOBHgI0H+4um8LTeRYzI4xfaHhWm1CONfZP8AM7+k6CuqiNn7rih6QDmVLsKif0K/mHbS8ErS0NhtIT/fZOjEOLhaOw4kp5rUEERLxA7ln5hrOvV29lb1nk05qew3fxUfBWh3k71Pwz779fd3gCD+k5tJ7Ar/AAej5pm0J8x0peGyzIacH9rXqZDF46okHEGQpYPic6sfHMvR2/qH4v7C0Pspvz2Nrpstrr0V50fYxsqS6TsJSwCvE2kPrkyHX3DitxalqPhKjibM9x83hWNyTubdnukovCEblBoQ1BMlvxnD061lJKVFJ7xwtecBxdLl4kmRTY6lnwqbGlH9OhO7V0nePcocxsZTiE+FQFqEcarUuDqjyC9C6iW26k5PdALcCO5J19grQMED1iLLWpxalrJKlEkk98nRvR2xj8GU75VvNidqanvmPic0bItXTheuqH/3N/lTZ0ZLqx4FEWpkgRKlCkE4BqQ256igbXjj6kr1TZyckJlOYDxFRI0H+4um8LTeRYzIgxks78Wu9r1yP53P0HQTrwnB4HEn0g5khIUxQyrrUQVqP+Mh02WorUpR2ScToEFJwIwslRSoKGyDamAaTeJY61dKyx/d9rOvV29lb1nk05qew3fxUfBWh3k71Pwz779fd3gCD+k5tJ7Ar/B6PmmbNdjSRvD77XtxXUIkg7MinxHCfD9mE/tmXo7f1D8X9haF2Sg+AKPu0KSdRUCtzT1zwbhNedw5a+KnQZ7j5vCsbknc27PdJReEI3KDQQrJWlXgINpYyZLo/nJ9Npw1RdOkPYdjyZMcnxKwcSPedCd2rpO8e5Q5kYYyGd+LXdONRqB8NNqPIL0G8IF0nlYfaVGUlA/CjdUeMRmXo7Yx+DKd8q3mxO1NT3zHxOaNkWvGrJvLWD4KjI5Q2lpyZLo/mJ9Ohe3FyoxpR2ZUGM8fGS2En4aD/cXTeFpvIsZkLspvzm13O3UX/P8AQdBnXjyU+JKvQcyeQik0pXfVDUj0SHSdC70dqK3KrclAUzDwDKFDWdkr6xP+PXGwvfWVkarMeYj7khhDg9OANjWaDJBEqgNIJ/5xXltEeZKsoWpEe706BVW4Mp9hxUEtEy8gIALzah1SPGLVGmTqVIMeYyW14YjvhSfvJI1iM29Xb2VvWeTTmp7Dd/FR8FaHeTvU/DPvv193eAIP6Tm0nsCv8Ho+aZtG10yE+SJ9BBtW8X6Pd6WdkxXI5/7Dhw9ysy9Hb+ofi/sLRevWfutrPu0KqNRXfosME4vhya74ys6Wj0BOgz3HzeFY3JO5t2e6Si8IRuUGjL13EL76m0n3YWgAybr1hknsZ+NJQPOS0r4jQndq6TvHuUOZCGMpnfWu0cZs7gyofLr0L1YRHafSk7EKI2Fjyro0xfxzL0dsY/BlO+VbzYnamp75j4nNGyLXl7o6zwhJ5Q2ma7wV95CT7tCsAP0C78s4ZYbfjK8zS8pPuXoP9xdN4Wm8ixmRNZ7K8CFnim12+3UX/P8AQdCLr6cPC0rMqDb7LEBtzrdTlaPMpasfeDZhlyQ80y0kqccWEISO+pRwAteR1qKpiixlhTEEEOKGw5IV/uK/YaNGiKltVTB3SwzD00+P7RCMOPaHW1RmTTanHEuCDrNqOC2Sf+TK+95tg2n0EojKqFNd1XAHXLH+4zj3nk94+PYOZert7K3rPJpzU9hu/io+CtDvJ3qfhnXsu7TaddFmczTEsBbtMEKZ1eMtD0MuSDiokKyXNnDYteiLRHkXeVOqb8d3oFBAQiMHhhk7OOWm2oLqbuy/YR9W2oLqbuy/YR9W2oLqbuy/YR9W2oLqbuy/YR9W1MhXaEKthFZlKSYKAsmGBkp1Q1rj7XX17Ih3dQTpFXkuKUClQVECMEnZOOmHXFn4V3n7sQ8avJ0iNNebDgiAqKnUheBTpmsNbWNtQXU3dl+wj6ttQXU3dl+wj6ttQXV3dl+wj6trxQrtLrU0vVmUhwudUkQwoDW8OmiyYd3UZRYq0lwEYOZUQIyEHZUPtDiR4LM0u7Mh5tlqty1LcWEJGoRrlRw22142Lsv1Z5DlZkt6mCIyW0xA4lAYGRgFaYLagupu7L9hH1bNQrt9K0tIrEnSeiUclzUeuFBpzAZOmW1BdTd2X7CPq21BdTd2X7CPq21BdTd2X7CPq21BdTd2X7CPq2u/BuymvUotVqUtwTWChBhBIUoLGAJ004W1BdXd2X7CPq21BdTd2X7CPq2VDu4sJLlXkpbSMhtYhhRWBrkkaYMm13ol3VuToLFWkumZDdbwVDCcMj7QKH2hxIydi2oLqbuy/YR9W0yDdk06mBValBIQ7kqEIEnqz5W2oLqbuy/YR9W2oLqbuy/YR9W2oLqbuy/YR9WzcO7jawtiryXVjZSqGEDJ75x0w7Atd6FdtMuWWqxJWTTpoIMMJASWFZR/3DsC1Do92ZNTjhFXkOhol5aFwwhJQyMtQKtMOAwFp7d2J82TLXXJYU+6twjUIOGWcdttqC6m7sv2EfVtqC6m7sv2EfVtqC6m7sv2EfVteKFdtU5gvVmUhXQ+CABDCsUiOgJOOmDZFtQXU3dl+wj6ttQXU3dl+wj6ttQXU3dl+wj6ttQXU3dl+wj6tosG7AplQArUooKmco6iAI1z5W2oLqbuy/YR9W2oLqbuy/YR9W2oLqbuy/YR9W2oLqbuy/YR9WwgXUx7ey/YR9W1fg3ZVXqsp6sykOGa+VoEIKCVZZxAOmjGy4d3HMlTtXkoAGS2UwwrLQnWyj9oMD4ragupu7L9hH1bJi3ck3YWwKtJLcSaHFO6jGUNPTkhOTpmx1GzjbUF1N3ZfsI+rZ6HdvpUgINYk6SKnLKXNRjErLTOKSnTLagupu7L9hH1bagupu7L9hH1bagupu7L9hH1bJhXeRiWKvJcxBC8qIEZKDrFQ+0OJHgtQYV2k1aOpqsylqGXgkwgkHqT5U21BdXd2X7CPq2RCu6k/wCnq8l1xQyQhUMIBCtY6+mG2oLq7uy/YR9W2oLqbuy/YR9W2oLt4EsVeS64kZQQqGEBWHeKtMOFqpFu29Hpa3azKTjEXk4QwrEF9w7aLUiJdyix11jorIVlhyPGWqJklDhTruJTphyskGxg3VOua7L9hH1bagupu7L9hH1bagupu7L9hH1bUWFdtMWuBusyVg07BwmGE5KdPb1x9ocbKh3fkOhPRaSUNtYl3UgyyQdjJ0z342p6qFS5AkRLxTW3MCOwQQoHvEF3Ai1UTcme8h5idIiLI+1S3DxbUrwpSXeptqC6m7sv2EfVtqC6u7sv2EfVteOFdpVZkF6sym15LWKRDCgOoHf00W1BdTd2X7CPq21BdTd2X7CPq21BdTd2X7CPq21BdTd2X7CPq2nsUpiF/oJzsnF5OXpjGk5OscMOrXjod5O9T8M4qUQAScBsWvv193eAIP6Tm0nsC8HB6PmmbQuyUDwgj0i0AaddWstk6zMmK8B58pB+OZejt/UPxf2Fo+s1JPk/3FrooSK03KWMW4bTspfmZQVD32cWp1alqOKlEknxnQZ7j5vCsbknc27PdJReEI3KDROvCT/K6R6Ra7ElMS8FNdV1hfShW9c6g+42nxVwZ0qIvrmHltnzoJFp3aukbx7lDmRdl4+BpVrsdmTeC5/y67UcaioFaqWuFOJRCZPeJe6pfFTm3o7Yx+DKd8q3mxO1FT3zHxOaNkWvL3R1rhCTyhs7rxY58BWNChYv0q8ERPXKiIfH/wAdwE+4nQf7jKbwtN5FjMjdZIPkj8Ra7nbqL/n+g6EU4SWj/OLODBax4CdBn7Nh5zvnBA/vs2VAkVPpdhx05TjsRSR7S7iT4hsm14qgxJlNRIh/0UJvSWP5sOuc86zr5lB7DvDwWfmGrNuKacC07INn206zrY+zX7j3xmXq7eyt6zyac1PYbv4qPgrQ7yd6n4Z99+vu7wBB/Sc2k9gV/g9HzTNoxwkMn+dNqCjTmLwwvvQFuDzx1pc+AOZejt/UPxf2FmexpR8SR6Ta7/2VMvFJ+7BDQP4ziRos9x83hWNyTubdnukovCEblBota8Z8eAoPvws2stuIWNlKgR/a170o6YJbzY+zkhuQg+EPIC/3tO7V0nePcocyNrIkHyR95FrsdmTOC5/y67VoCFR6LT9hamlTHvO+cEehKc29HbGPwZTvlW82J2pqe+Y+JzRsi15e6Os8ISeUNjrwh/K6feNC5xy62mOTgJMeQwfHltnAaD/cXTeFpvIsZjGsxJP8qR6VWu326i/5/oOghWQtKvAQbSk5Mh0fznQkdQ2y13wnKV51WU6mj3Yp05KsJsuG7FZ8LbenuKcX/kFADNoHYd4eCz8w1oR3E9U051i+/wDdPeNnG1NLKFbI0b1dvZW9Z5NOansN38VHwVod5O9T8M++/X3d4Ag/pObSewK/wej5pmzRyXUHwKFrrDKvG5HJw09mU167asBmXo7f1D8X9hZs4RHz4VIHxNmQWLnyljWMmpNNq8aWm1Kw9KtFnuPm8KxuSdzbs90lF4QjcoNGNrokJ8kT6CDoXgGnU+gTB1q4OknfR1lJtO7V0nePcocxnsaSd4PSbXHhqqNcVDScC/BmN4+DKYWLXjmpn1ua6jDSkuaW0BtbXUJ9wzb0dsY/BlO+VbzYnamp75j4nNGyLXl7o6zwhJ5Q2b14j48CkH4jQoskw6xT5AOGlyWlHzBQtXYwiVqpMDYblOpHmCjhZ/uLpvC03kWMxvWiSPGpAtdVlyRX4bTYxUrTP0G06nzabIVHlsLacHeUNnxg98aE3XfJ8KUn0izDemvIT3idfzCzMGFAbNSrSVKU5iqLB10rd7wU591HxteKe/UhSZb+Tpi4J1kpCEgJfcSAANgADNoHYd4eCz8w1ordU4EBWHUjAHv4aN6u3sres8mnNT2G7+Kj4K0O8nep+Gfffr7u8AQf0nNpPYFf4PR80zoUt5Ua89PdScMJbJPmURjaqRxEqU2ONhqQ4gf4qI0b0dv6h+L+wtsQz43R7hapjU12qGx331yJKx51BtP6dFnuPm8KxuSdzbs90lF4QjcoNGJrulP3kLHu0HPt7nx1bJjVJaN6l5sK+KbTu1dJ3j3KHMRrQ3fG4kfG1zG5CJFUnMBQVDpklwKBwyVFOGdejtjH4Mp3yrebE7U1PfMfE5o2Ra8vdHWeEJPKGzHVNSE/yZXqnRvdi7VxMww1ZGYkf3cbGV7wbP8AcXTeFpvIsZg7DX43U/A2/h9HS5U5z69YMQHyD4FKGSLQbxPNMCFUGUzYW1uHq2/wl7KbO3fYqDa5NBfMlCQVLirwTIaHm/5jxptKQorZGScotpGHfxGtaPDj3VjatmBLtTKRpUQ66WMvYU7/ADd8ItNmyqhKclSnVOPOHFSlWqfYVE/oV/MO5tA7DvDwWfmGs69Xb2VvWeTTmp7Dd/FR8FaHeTvU/DPvv193eAIP6Tm0nsCv8Ho+aZ0HnC1JZdGyEtqH9ha97SW7yVEo61xwOp8zyQ5++jejt/UPxf2Fj2En8U/C15yGzSIvfYpkcLHgU4C4f1aLPcfN4Vjck7m3Z7pKLwhG5QaMM4SW/GcPToUT7ah3ijYYkR2ZCfEWXACfQq07tXSd49yhzNiEfG98Ba6WTFu5V1k4LmNTG0jvlDERxR96hnXo7Yx+DKd8q3mxO1NT3zHxOaNkWvL3R1nhCTyhtE/3FjwtrHu0a4FSKRd+br68Vcc+eOs/soWf7i6bwtN5FjM/9F53vgLXQ/09LlO9+VMbY/s22tw6DTzsdxDrS1IcQcUqScCCO+CLLvZLDTEtcWOuo5CkJmqT9okeHDYKvAq0taylsLUVLVi4sk4kqX3zoVPsKif0K/mHc2gdh3h4LPzDWdert7K3rPJpzU9hu/io+CtDvJ3qfhn336+7vAEH9JzaT2BX+D0fNM6ErXDB8kPcSLXq6uRTH8cS9TIqifGE5H7aN6O39Q/F/YWQ2XWorQ2XHiB/fAWve4HLy1PDYQ9pf5YCP20We4+bwrG5J3Nuz3SUXhCNyg0WDkvNHwLBtITkvujwLNroHLq5iHrJkZ+Oob9BI94Fp/auk7x7lDmL1ojQ8K1n4CzGMZqmwThlIoFRfV4jJZWoD0AZ16O2MfgynfKt5sTtTU98x8TmjZFry90dZ4Qk8obQzhJb8Zw9OtYjAkaCyH7nNd9cWpKB8SX28R70Wf7i6bwtN5FjMXrRGvG4o/AWpw1LEu0wNbT1y5Tg8ZBbT7k6LbZfZYT5UpPmIBs+5pry1d4nW82hU+wqJ/Qr+YdzaB2HeHgs/MNZ16u3sres8mnNT2G7+Kj4K0O8nep+Gfffr7u8AQf0nNpPYFf4PR80zoO9jRj4lj32q4D137vydlYRIjqPibcykjj6N6O39Q/F/YWu2wH61QmzsCRph8zaso/ptMfVKlyJCtl11az51EnRZ7j5vCsbknc27PdJReEI3KDRBwINpgwlO77H02o8swatBlA/7UhtZ8wVr2vbETBfajIGCG3pQQP5dNOGY1GdmKp8VoYuPLyE+dasBZchuTeytlr/AG26fPZR5mYym/2zr0dsY/BlO+VbzYnamp75j4nNGyLXl7o6zwhJ5Q2YODzZ8CxaQMH3R/OdCjYPUS8MbDFWkMvgfguAE+hdn+4um8LTeRYzHtaNG8yz77Pkt3lpELDsOA0yd8Wi4r3q0Y76G4rwJ6rEZI84w0an2FRP6FfzDubQOw7w8Fn5hrOvV29lb1nk05qew3fxUfBWh3k71Pwz779fd3gCD+k5tJ7Ar/B6PmmdBevEa8S1D4WjnVl0pjX/ACgzG3wf5Hxpah6QNG9Hb+ofi/sLXbBakOzAcDDpcl4b4goHvVmM9x83hWNyTubdnukovCEblBmS9dxKvvNoPu0L8OCSaRMH/qoSXiPApez78y7KUpq8KS5rtw47spfmaBUPfa7i1Oz561HFSqbUCfOY6869HbGNwZTvlW82J2pqe+Y+JzRsi15e6Os8ISeUNgcCDaYMJLnjIPpGOhdD7Squxe9KhyWD/k2SPeLSO4yncLTeRYzIkQzplKiDZeWhHrrwsZYm34kPjrTIfCN6hJSn3DOqfYVE/oV/MO5tA7DvDwWfmGs69Xb2VvWeTTmp7Dd/FR8FaHeTvU/DMZZekvNsMNrcdcWEIbQCpS1KOAAA2SbTf4cSadQHp0yS8xUWacmoOwHYxbyGFSdS4FZViHMdfAptWrpMUu7lNrDE9UsyUs6clCGtKjreQVhtakuqWF4DYUgWvVQavUUXdfixFut9AYQyh4Qm3SneLc533W6U7xbnO+63SneLc533W6U7xbnO+61LuvX0Qa4lVPdBXBQlOxrnVLRt0p3i3Od91jdythoRzBcDxWVpRrYlIGBNru3brSFVGLJguJalQXWwThgHE4LR7026U7xbnO+63SneLc533WvJdevu1yctEB0pLmsda1MolUFFreRFWXjHZjJSO+ouhSx/YC3SneLc533W6U7xbnO+63SneLc533WauxXhdSW0YDuWanHUE62wGnATbpTvFuc77rdKd4tznfdbpTvFuc77rdKd4tznfda7t16+1eCkOLgOhCJ0dSjrawCxbpTvFuc77rdKd4tznfdbpTvFuc77rOXbrkgpDcFxRbSEL2NZQ71ulO8W5zvutV7sV6XQqE6IbpdZbdYcb1sQErKkn326U7xbnO+63SneLc533W6U7xbnO+61NodVRR6q81FWXlsNQ0AYd9eLvoycLXcuxX2pcsrgOAGmzkjY2VMLAt0p3i3Od91ulO8W5zvut0p3i3Od91ulO8W5zvut0p3i3Od91rx3Yrz0+OpEB1QFOgJ72ymMgG3SneLc533W6U7xbnO+63SneLc533W6U7xbnO+60W614E0uopNPdBUpnAa2vgTbpTvFuc77rdKd4tznfdbpTvFuc77rdKd4tznfdYXTvFj2ud91rw3Wr7t4Ku4iA6pCpz6knW1wVk26U7xbnO+6zl263JXi1BcVkAIXhhrKSNcW6U7xbnO+61Bu/eGBWqfJVAdCG5DZWdbrMcFe61XurWG6A1FYhLUG61PKcNrLbISfMcLdKd4tznfdbpTvFuc77rdKd4tznfda7VDqbdahSlw3C1DQ4XPxG0qIR58bUG7N4E1hh12A6Bi4SdbvoNulO8W5zvut0p3i3Od91ulO8W5zvut0p3i3Od91ulO8W5zvutUbrV9cOjgU90lENQVsax09026U7xbnO+63SneLc533W6U7xbnO+63SneLc533Wol2K83ErwXAdBXTclOxrnT2jbpTvFuc77rdKd4tznfdbpTvFuc77rdKd4tznfdbpTvFuc77rXluxX3q1JWiA6pJS1gdbvNpt0p3i3Od91ulO8W5zvut0p3i3Od91ulO8W5zvutNpNRpcMmZGW1lupycrv4A6HeTvU/DMBIOIs1fW8LVMRTQ+0uOhtLX2jDbiiyl3Tw0oqBJRl9Vkm0u8lUm0tFNdLAjhTKlZDKG1uGOgtt5akgFWQlRAtffr7vcAQf0nNpPYFf4PR80zoNdiv+IoNqNMNPq0CVjgGpDajvQde1dhCnVmfESCEtSFpQD93HW0L0dv6h+L+wtNwaufFSdZT88HzhlrnXmM9x83hWNyTubdnujovCEblBmO68aOd+PfoUhWq6XHo6tifFeDXifZcK0enXTY4gkHRrn+ku/SYwPZLjslwb0BpHwNrsdmzeC5/wAuvOvP2xjcGU75VvNidqanvmPic0bIteXujrX9fI5Q6D+u1HX/ACFPqnQSopUFA4EHEWvtkrpMSSgYNy6lIko8z0aOo5lL/wBPTa9K+5T2Yw88hQ/YG13O3MX/ALn6DnVPsKif0K/mHc2g9h3h4L//ANDWdent7K3rPJpzU9hu/io+CtDvJ3qfhn336+7vAEH9JzaT2BX+D0fNM6DGuzJT/ID6DoXpOqXabUMcdVwGVLV3i42NKV+nQvR2/qH4v7C15iWaZd+Hh1sZx4+d1eHwTmM9x83hWNyTubdnukovCEblBmK14aD4HSPSNB6Q7Fh0N9lRS41pq0KHeKXSRa9MdpNRTOjhIjz2kymwP+JX16T5lA6N8nCKuiGOthRWWB/ZOUr3k2ux2ZN4Ln/Lrzr0dsY3BlO+VbzYnamp75j4nNGyLXl7o6zwhJ5Q6DmvEZ8S1jRvLJbk3GumpJBWFykr/wAA2gfpzJeEe67neVJqSR50sNc67Xb7dRf8/wBBzqn2FRP6FfzDubQOw7w8Fn5hrOvV29lb1nk05qew3fxUfBWh3k71Pwz779fd3gCD+k5tJ7Ar/B6PmmdCLrl4eFpWg+RLuhEUDiuDOcbI8CJCQsH0pOhefugn/i/sLXzUU1duKT2JEjs/3CAo+9WYz3HzeFY3JO5t2e6Si8IRuUGYnqojg+64k+kEaE7tXSd49yhswVVS7DzBOL1Md05GJ19TvaywnzKwOhdiImdeCmMLAKDISVg7BSjqj7haqyTMqc6QTruyHF+som12OzJvBc/5dedejtjG4Mp3yrebE7U1PfMfE5o2Ra8vdHWeEJPKHQGvDUPuug+kaKocmZcFmUMCiHUnkEY6+StCCT6VDRFr14MQ6FE76Yq3z533D+yRa7fbqL/n+g51T7Con9Cv5h3NoHYd4eCz8w1nXq7eyt6zyac1PYbv4qPgrQ7yd6n4Z99+vu7wBB/Sc2k9gV/g9HzTOhC138PChY92hQAJNPrsD/m5ED6PGqMrLI9UnQq7CpV73WE7LsttA/ywFr0PiReKquA4gynAD4knDMZ7j5vCsbknc27PdJReEI3KDMZ148kfypPoOhO7V0nePcobXcnNQKsyp/sZ0FiQPC06MlVqpAdpdQkwneuZcKcfCBsH+4tdJIaVVJqhrMQlIQrwLfIaHuJs4cXFnwqNrsdmTeC5/wAuvOvR2xjcGU75VvNidqanvmPic0bIteXujrPCEnlDoNdjSBvD79GgzWo13aaxIUBFmVOfGkY95DrLACv8Tr2nQ36fMkRHwA6y4pteGxik4a2g0nLdQnwqAtfJWF4JDIPUR0NMJHgDaALXb7dRf8/0HOqfYVE/oV/MO5tA7DvDwWfmGs69Xb2VvWeTTmp7Dd/FR8FaHeTvU/DPvv193eAIP6Tm0nsCv8Ho+aZ0IhyZLW+A9OtZQwJHgNrrSW4tfglz/bcWWV714Fs/G0yK5ClyIrowcZdU2rzpOBtFbS5/ETFQxDb6nfymyv8Aa0lZXJeUe+4o+k5jPcfN4Vjck7m3Z7pKLwhG5QZkXXD6fC0r3a+hO7V0nePcodCukVKm0ysJGLhRqWWQMPtmetJ3yLQTqS7SRiUrnVD1m4qMf1KsTiTa7HZk3guf8uvOvR2xjcGU75VvNidqanvmPic0bIteXujrPCEnlDoReqD6fC0T6NfRf1rmU3hebyLFrwE1KFTq0CVLdRqeUfLsjZO+TgdC7UYTK/TGT1pktlW9Sco2qkkzKlNknZdkOL9ZRNrt9uov+f6DnVPsKif0K/mHc2gdh3h4LPzDWdert7K3rPJpzU9hu/io+CtDvJ3qfhn336+7vAEH9JzaT2BX+D0fNM6DBweaP84s+MH3R/ObIWptaVpOCkkEHxi17UJVWFTEJyW5rLUpI/FSCffjaOgIvJeSWf8AyIrgSfAp3JbH6rKOKicxnuPm8KxuSdzbs90lF4QjcoMyHrvgeFKh7tCd2rpO8e5Q6F3cJ8eo0ZWBVJa02MD3pDHVDDxqTiLVgmMiiQDsxacXHB91cjFwj0EaF2OzJvBc/wCXXnXo7YxuDKd8q3mxO1NT3zHxOaNkWvL3R1nhCTyh0IWu+E/eSoekaL/cXTeFpvIsWu6dXxqhRFYkyW9NjDvCQyCoebKTiNC5qCmpyJgOBhw33hvinIHvVZWybXb7dRf8/wBBzqn2FRP6FfzDubQOw7w8Fn5hrOvV29lb1nk05qew3fxUfBWh3k71Pwz779fd3gCD+k5tJ7Ar/B6PmmdBJwUD4DaYnCU7vjoVQCXd2izNfLZL0Nw+JBy0e5VpZ1P0yvEdkS40dB8wLqv0jNZ7j5vCsbknc27PdJReEI3KDMhnCS1vsPTYjAkWndq6TvHuUOhClvQJkeWycHWXErQfGk42nVN6s1GdPeQlK3WySlOwMAEgDQux2ZN4Ln/Lrzr0dsY3BlO+VbzYnamp75j4nNGyLXl7o6zwhJ5Q6EZWTIaPgWLOpyHVp8CiNB/uLpvC03kWLRJTsKUxJZODjTiVpPjScbXnjtoqWrGEZMae2mUyPAHNdSTvVYi1AOpaHWJJGu8tiMg+lxXuToXb7dRf8/0HOqfYVE/oV/MO5tA7DvDwWfmGs69Xb2VvWeTTmp7Dd/FR8FaHeTvU/DPvv193eAIP6Tm0nsCv8Ho+aZ0Zmu9lfeSk+4aFN/1d2qxFOzGWzLa9OlL9yha832EdCNvqMp4eZtpKM1nuPm8KxuSdzbs90lF4QjcoMxo5LrZ8CgbSRkyHR/ObTu1dJ3j3KHRj6zcg+T+JGhdjsybwXP8Al1516O2MbgynfKt5sTtTU98x8TmjZFry90dZ4Qk8odBJwUD4DaYMJLu+x9Og/wBxdN4Wm8ixoR//ABW7D8fAF+lrL6PCWHSAtI3qte2vFutT2zsyZMqT5ktIDQ9+Ohdvt1F/z/Qc6p9hUT+hX8w7m0DsO8PBZ+Yazr1dvZW9Z5NOansN38VHwVod5O9T8M4pUkAkaxtffr7u8AQf0nNpPYFf4PR80zoytlk+FpOhdAhyrmEogImxnoysfKJOTxgLX9VkVSJHCuoap63MPAp4qJzWe4+bwrG5J3Nuz3SUXhCNygzBrEWm9lO+M4+m07tXSd49yh0WtaLJO8Hv0LsdmTeC5/y6869HbGNwZTvlW82J2pqe+Y+JzRsi15u6Os/18nlDoy9daFfebQfdoP8AcZTeFpvIsaF36g3TarHeeGVHVi0+kjEKadGSseg2vUy1AlRqY24FphU7IKhsFTiisnjaF2+3UX/P9Bzqn2FRP6FfzDubQOw7xcFn5hrOvV29lb1nk05qew3PxUfBWh3k71Pwz13mq7rUdDupHUx2UMNF2HHcUltsYJTlKQTbphn7TT/YIv07dMM/aaf7BF+nbphn7TT/AGCL9O3TDP2mn+wRfp2ps6885mUYESGtvJCHsmDFGUP9wJwKBlHqMcLdMM/aaf7BF+nbphn7TT/YIv07dMNQ2qCfPBjH4t26YZ+00/2CL9O1PrVdkz4rMCNDVLW8hLCWoEbLLhPU5ODezav1K9sGW0Kw3F051lK23FRorocaxIBStKSFJxFumGftNP8AYIv07dMM/aaf7BF+nbphn7TT/YIv07dMM/aaf7BF+naNUL0SqPPlR4cVdNiONLlLECNpaFuEobKvs9k4kC3TDP2mn+wRfp26YZ+00/2CL9O3TDP2mn+wRfp26YZ+00/2CL9O1Jqt4Z1RjMUyJEcmKWCyGoEbLCk6+I+z1sLSK1VIr7rDrFODjayhQEGIoYpOBwKUEG3TDP2mn+wRfp26YZ+00/2CL9O3TDP2mn+wRfp26Yah32oJ88GMT727T1XugUqHPmQIaIToSGFmFEIGnAuJ1gglOWNcY7NumGftNP8AYIv07dMM/aaf7BF+nbphqG1QfNqGNhydumGftNP9gi/TtARfh2HGqEKks6nmP6iYdTTowDzjwKdLT9nr4gEG1Vk3goslMefCgNOKbS4j/RRFpWhewpKkIIIt0wz9pp/sEX6dumGftNP9gi/Tt0wz9pp/sEX6dqQ/eSvzm4FLpsSVJX1rbdOik8naR05u01VYfp8RUVtCQXVQohIbbVpAOTkZWQCMgHYt0wz9pp/sEX6dumGftNP9gi/Tt0wz9pp/sEX6dumGftNP9gi/Ts6i+kQ06O5SWG1VUJMRo06MFSNfBJCdLtNqtYp0yTDlRIDciO6tp1BgRcULbOSoazfeNumGftNP9gi/Tt0wz9pp/sEX6dumGftNP9gi/TtTV3orDM1+BS4r7MNkvSXEU6NkNISCcVHS7VOdeaKiPOqMOGjV4U82tyDFy3QTiVkZGOCu8Ts26YZ+00/2CL9O3TDP2mn+wRfp26YahtUE+eDGPxbs3Xam84htuNBWtaglKU0+MSSdYAAN2FL/AIiOPu0g0eOHI2Q8uOuFERkKlABGspAGW4AABsm3TDP2mn+wRfp26YZ+00/2CL9OxvDUNrgjzQYw9ODdumGftNP9gi/TtTkX0kwjVYFMiqZRlkOIgxAshGCVlCcjKUE5QBIFqz0z3fcabqdOgsKdCij/AEUNYOQooUMUIIxSQQRbphn7TT/YIv07dMM/aaf7BF+nbphn7TT/AGCL9O1Mm16sS0xIMKC88UrXkiBEACWwVKUSUAAJAxJNpVMv+zGddk0eKGYja9mFDODaAHVKbGR1aAFhRKcQAbdMM/aaf7BF+nbphn7TT/YIv07dMM/aaf7BF+nbphn7TT/YIv07HpzhUsVHodFRDlIbSVJgxMVoeUSjKQEZQSso6kkYG1VmV+iT36fUYMKPLYIDjS4EXFJIB7zdumGftNP9gi/Tt0wz9pp/sEX6dumGftNP9gi/TtTpleqzi24cKA4pCQpX+hiJABISMSpAGuTgLT6leVCNWTosMZbhby3IMXKUpvqSMCjE4YYW6YZ+00/2CL9O3TDP2mn+wRfp26YZ+00/2CL9O3TDP2mn+wRfp2m1KXNQlDyI6UpOIDUdpjX8elJTjod5O9T8M/vYZt3K/BpTGRJbeUtqWmUzpeGClpQpGSvE6w1wcRmwTETNjGYXRGDqS8WcNMyMdfIx1srwWvfWYNaqTTtPU6mCywhiKwtoMiO0gnBtOC3MrwlROJJObAvxEjXIqV2HKS3i+11D6FrBU6XkOFx0ZWBICAE5tyLxt3Wrmr3A6EriSY5caCVONGQ0Ww4kL1iUE44G16apDrVemT4bBZZdKMElKUKUUoCVOKCNYKWQVEDvnNvHfOBWLpU6jtNvB5nUWVlNtoSjUkcsHq0HKdyycRl9ZsDNulfOJd2AxGejOvKbrsKoHIIA0uMhaVI3xy7XlqdNnrpsemiRqSBBEZC3wlLjh0xbqlFKSQNdwgDMu5U26LeCkVN1Cltw50eQtCdlSWVhZA9Fl1+ipuxNgxVS2ahNfUuYstIcQ62leW0yleWChA65XUklWbTL+sUmHd5CKamRIp0WYwVurUkJMp0ry2i2oEKCSRa9NWj168lXqsaOWGZkx59DZOJAdUVa/jOZdeusUGRUXHm1rEmmS4gCO8uQ2UAnHvC1878U+89FgRUR3tVMiKMXENhMdEeOGFNtLT1SkuEBZyszYtQv4mUqmztPdjyQkQ6O1iltp4qVTEBK04OHBOmd5wdUizikqcWpCclJUSE444A97HMuveekXbpji2tVJq6n0qUvSkrbUw2oLDCVFaS2HFDq1YG187x0utogR6Y3JDEdyW8pUgJSsrmOl0pAQTrJ2MygPUePVoztYbkOQUEl1tjDLXgNZOuU9STs6+xaZeyhvxq06iXP6J1AFrT9RtpQ3FCABHaQH/sknDJJ1+ozaPfKi3dpVOFPYecmMuiTKbkMgtvvpBS2dNS4FJQzjlITk9da+94Il6LxyqtFimO28hoZClFSsW2wgkkk+DMu9NptOnGTOS6otoKmAlAcSHR1qlpUpOUE+C1XvPFqVGENYedfSEJStaEJAKFqUXcQSctYOChmqIJ1tDvJ3qfh/wBNd5O9T8P+mu8nep+FtSHbW+NzW1Idtb43NbUh21vjc1tSHbW+NzW1Idtb43NbUh21vjc1tSHbW+NzW1Idtb43NbUh21vjc1tSHbW+NzW1Idtb43NbUh21vjc1tSHbW+NzW1Idtb43NbUh21vjc1tSHbW+NzW1Idtb43NbUh21vjc1tSHbW+NzW1Idtb43NbUh21vjc1tSHbW+NzW1Idtb43NbUh21vjc1tSHbW+NzW1Idtb43NbUh21vjc1tSHbW+NzW1Idtb43NbUh21vjc1tSHbW+NzW1Idtb43NbUh21vjc1tSHbW+NzW1Idtb43NbUh21vjc1tSHbW+NzW1Idtb43NbUh21vjc1tSHbW+NzW1Idtb43NbUh21vjc1tSHbW+NzW1Idtb43NbUh21vjc1tSHbW+NzW1Idtb43NbUh21vjc1tSHbW+NzW1Idtb43NbUh21vjc1tSHbW+NzW1Idtb43NbUh21vjc1tSHbW+NzW1Idtb43NbUh21vjc1tSHbW+NzW1Idtb43NbUh21vjc1tSHbW+NzW1Idtb43NbUh21vjc1tSHbW+NzW1Idtb43NbUh21vjc1tSHbW+NzW1Idtb43NbUh21vjc1tSHbW+NzW1Idtb43NbUh21vjc1tSHbW+NzW1Idtb43NbUh21vjc1tSHbW+NzW1Idtb43NbUh21vjc1tSHbW+NzW1Idtb43NbUh21vjc1tSHbW+NzW1Idtb43NbUh21vjc1tSHbW+NzW1Idtb43NbUh21vjc1tSHbW+NzW1IdtRxuaygnHAbAAHg2P/AOa//8QAJREBAAEDBAICAgMAAAAAAAAAATEAECARMEBBIUICcVBRYHCB/9oACAECAQE/AP5qmn43p/EvhpKfDY4/xk2A1qNgmw6YMvHZc3x4pgdjpyenj/KcV0a1P1Y2GAy9frjsGBOL05aaTS6uR3x2DAhx9cTwOwTx+sOjE7xYDZZcw1rQ6aTdIcGcScCmdlzg+7CleNwuTl3TLc7dpgyDzS675Jc7+s2/rtetzylaaxQUvBZbdObBd2ju53ZV4TZgz9WxNM7RN+uJ0WesydLHe4y2YOIQ2+U7DXruNvlPEJokKZ2OqYNzr6okpl4vtsk0zuDo0ePlxvXXj+uv+f2F/8QAIxEBAAEFAQABBAMAAAAAAAAAATEAECAwQUARIUJQUWBhcP/aAAgBAwEBPwD+an41k/EyUNEWfOx4WLJgecgzP3UOiUyO+cjEK+P7s6CVy75zuDGJlMZvPOTh0x7jKaGPP3AlxZMSXSRmtfL+qHayYEYuJpM5b/XY3cmiLuolyaN7dzL91du18/uloPCQW6ZktzUyXbB4i3XPtmKNTfp5O2M2zraIsS+RksRoK+7YWI8jFMURo7RLs7TRHl5paNjS/Tzd8/fj/Qv/2Q==)"
      ],
      "metadata": {
        "id": "DHY8XdeTO-K_"
      }
    },
    {
      "cell_type": "code",
      "source": [],
      "metadata": {
        "id": "uXfdwdesPHyU"
      },
      "execution_count": null,
      "outputs": []
    }
  ],
  "metadata": {
    "colab": {
      "name": "scratchpad",
      "provenance": [],
      "include_colab_link": true
    },
    "kernelspec": {
      "display_name": "Python 3",
      "name": "python3"
    }
  },
  "nbformat": 4,
  "nbformat_minor": 0
}