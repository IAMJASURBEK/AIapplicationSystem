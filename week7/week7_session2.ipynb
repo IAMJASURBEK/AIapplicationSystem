{
  "nbformat": 4,
  "nbformat_minor": 0,
  "metadata": {
    "colab": {
      "provenance": [],
      "include_colab_link": true
    },
    "kernelspec": {
      "name": "python3",
      "display_name": "Python 3"
    },
    "language_info": {
      "name": "python"
    },
    "accelerator": "GPU",
    "widgets": {
      "application/vnd.jupyter.widget-state+json": {
        "a9d9e3d8e959449d8c4f8cc772b016fa": {
          "model_module": "@jupyter-widgets/controls",
          "model_name": "HBoxModel",
          "model_module_version": "1.5.0",
          "state": {
            "_dom_classes": [],
            "_model_module": "@jupyter-widgets/controls",
            "_model_module_version": "1.5.0",
            "_model_name": "HBoxModel",
            "_view_count": null,
            "_view_module": "@jupyter-widgets/controls",
            "_view_module_version": "1.5.0",
            "_view_name": "HBoxView",
            "box_style": "",
            "children": [
              "IPY_MODEL_6f7313130d244e8cabbb887dfe84d179",
              "IPY_MODEL_3fc9408229e34b6c8daa19f37c7d0c6d",
              "IPY_MODEL_cdb8f7afe7fd41fe8e81d38d99b703f3"
            ],
            "layout": "IPY_MODEL_b7d5b81e15fd4513a188b11b5e95e526"
          }
        },
        "6f7313130d244e8cabbb887dfe84d179": {
          "model_module": "@jupyter-widgets/controls",
          "model_name": "HTMLModel",
          "model_module_version": "1.5.0",
          "state": {
            "_dom_classes": [],
            "_model_module": "@jupyter-widgets/controls",
            "_model_module_version": "1.5.0",
            "_model_name": "HTMLModel",
            "_view_count": null,
            "_view_module": "@jupyter-widgets/controls",
            "_view_module_version": "1.5.0",
            "_view_name": "HTMLView",
            "description": "",
            "description_tooltip": null,
            "layout": "IPY_MODEL_c6d17a940cce47198516eebac5448e7d",
            "placeholder": "​",
            "style": "IPY_MODEL_e61dd9c6d5444040b0bd45c5a9edd069",
            "value": "100%"
          }
        },
        "3fc9408229e34b6c8daa19f37c7d0c6d": {
          "model_module": "@jupyter-widgets/controls",
          "model_name": "FloatProgressModel",
          "model_module_version": "1.5.0",
          "state": {
            "_dom_classes": [],
            "_model_module": "@jupyter-widgets/controls",
            "_model_module_version": "1.5.0",
            "_model_name": "FloatProgressModel",
            "_view_count": null,
            "_view_module": "@jupyter-widgets/controls",
            "_view_module_version": "1.5.0",
            "_view_name": "ProgressView",
            "bar_style": "success",
            "description": "",
            "description_tooltip": null,
            "layout": "IPY_MODEL_6194ffd71b984a9590602203fb20f7a3",
            "max": 170498071,
            "min": 0,
            "orientation": "horizontal",
            "style": "IPY_MODEL_c0b779e7940549b0bd3dae0b1ec01bbd",
            "value": 170498071
          }
        },
        "cdb8f7afe7fd41fe8e81d38d99b703f3": {
          "model_module": "@jupyter-widgets/controls",
          "model_name": "HTMLModel",
          "model_module_version": "1.5.0",
          "state": {
            "_dom_classes": [],
            "_model_module": "@jupyter-widgets/controls",
            "_model_module_version": "1.5.0",
            "_model_name": "HTMLModel",
            "_view_count": null,
            "_view_module": "@jupyter-widgets/controls",
            "_view_module_version": "1.5.0",
            "_view_name": "HTMLView",
            "description": "",
            "description_tooltip": null,
            "layout": "IPY_MODEL_e8b1ec7dc6894155ac5adbe72f849439",
            "placeholder": "​",
            "style": "IPY_MODEL_132113f306374c6b907458348a288e12",
            "value": " 170498071/170498071 [00:13&lt;00:00, 14011749.96it/s]"
          }
        },
        "b7d5b81e15fd4513a188b11b5e95e526": {
          "model_module": "@jupyter-widgets/base",
          "model_name": "LayoutModel",
          "model_module_version": "1.2.0",
          "state": {
            "_model_module": "@jupyter-widgets/base",
            "_model_module_version": "1.2.0",
            "_model_name": "LayoutModel",
            "_view_count": null,
            "_view_module": "@jupyter-widgets/base",
            "_view_module_version": "1.2.0",
            "_view_name": "LayoutView",
            "align_content": null,
            "align_items": null,
            "align_self": null,
            "border": null,
            "bottom": null,
            "display": null,
            "flex": null,
            "flex_flow": null,
            "grid_area": null,
            "grid_auto_columns": null,
            "grid_auto_flow": null,
            "grid_auto_rows": null,
            "grid_column": null,
            "grid_gap": null,
            "grid_row": null,
            "grid_template_areas": null,
            "grid_template_columns": null,
            "grid_template_rows": null,
            "height": null,
            "justify_content": null,
            "justify_items": null,
            "left": null,
            "margin": null,
            "max_height": null,
            "max_width": null,
            "min_height": null,
            "min_width": null,
            "object_fit": null,
            "object_position": null,
            "order": null,
            "overflow": null,
            "overflow_x": null,
            "overflow_y": null,
            "padding": null,
            "right": null,
            "top": null,
            "visibility": null,
            "width": null
          }
        },
        "c6d17a940cce47198516eebac5448e7d": {
          "model_module": "@jupyter-widgets/base",
          "model_name": "LayoutModel",
          "model_module_version": "1.2.0",
          "state": {
            "_model_module": "@jupyter-widgets/base",
            "_model_module_version": "1.2.0",
            "_model_name": "LayoutModel",
            "_view_count": null,
            "_view_module": "@jupyter-widgets/base",
            "_view_module_version": "1.2.0",
            "_view_name": "LayoutView",
            "align_content": null,
            "align_items": null,
            "align_self": null,
            "border": null,
            "bottom": null,
            "display": null,
            "flex": null,
            "flex_flow": null,
            "grid_area": null,
            "grid_auto_columns": null,
            "grid_auto_flow": null,
            "grid_auto_rows": null,
            "grid_column": null,
            "grid_gap": null,
            "grid_row": null,
            "grid_template_areas": null,
            "grid_template_columns": null,
            "grid_template_rows": null,
            "height": null,
            "justify_content": null,
            "justify_items": null,
            "left": null,
            "margin": null,
            "max_height": null,
            "max_width": null,
            "min_height": null,
            "min_width": null,
            "object_fit": null,
            "object_position": null,
            "order": null,
            "overflow": null,
            "overflow_x": null,
            "overflow_y": null,
            "padding": null,
            "right": null,
            "top": null,
            "visibility": null,
            "width": null
          }
        },
        "e61dd9c6d5444040b0bd45c5a9edd069": {
          "model_module": "@jupyter-widgets/controls",
          "model_name": "DescriptionStyleModel",
          "model_module_version": "1.5.0",
          "state": {
            "_model_module": "@jupyter-widgets/controls",
            "_model_module_version": "1.5.0",
            "_model_name": "DescriptionStyleModel",
            "_view_count": null,
            "_view_module": "@jupyter-widgets/base",
            "_view_module_version": "1.2.0",
            "_view_name": "StyleView",
            "description_width": ""
          }
        },
        "6194ffd71b984a9590602203fb20f7a3": {
          "model_module": "@jupyter-widgets/base",
          "model_name": "LayoutModel",
          "model_module_version": "1.2.0",
          "state": {
            "_model_module": "@jupyter-widgets/base",
            "_model_module_version": "1.2.0",
            "_model_name": "LayoutModel",
            "_view_count": null,
            "_view_module": "@jupyter-widgets/base",
            "_view_module_version": "1.2.0",
            "_view_name": "LayoutView",
            "align_content": null,
            "align_items": null,
            "align_self": null,
            "border": null,
            "bottom": null,
            "display": null,
            "flex": null,
            "flex_flow": null,
            "grid_area": null,
            "grid_auto_columns": null,
            "grid_auto_flow": null,
            "grid_auto_rows": null,
            "grid_column": null,
            "grid_gap": null,
            "grid_row": null,
            "grid_template_areas": null,
            "grid_template_columns": null,
            "grid_template_rows": null,
            "height": null,
            "justify_content": null,
            "justify_items": null,
            "left": null,
            "margin": null,
            "max_height": null,
            "max_width": null,
            "min_height": null,
            "min_width": null,
            "object_fit": null,
            "object_position": null,
            "order": null,
            "overflow": null,
            "overflow_x": null,
            "overflow_y": null,
            "padding": null,
            "right": null,
            "top": null,
            "visibility": null,
            "width": null
          }
        },
        "c0b779e7940549b0bd3dae0b1ec01bbd": {
          "model_module": "@jupyter-widgets/controls",
          "model_name": "ProgressStyleModel",
          "model_module_version": "1.5.0",
          "state": {
            "_model_module": "@jupyter-widgets/controls",
            "_model_module_version": "1.5.0",
            "_model_name": "ProgressStyleModel",
            "_view_count": null,
            "_view_module": "@jupyter-widgets/base",
            "_view_module_version": "1.2.0",
            "_view_name": "StyleView",
            "bar_color": null,
            "description_width": ""
          }
        },
        "e8b1ec7dc6894155ac5adbe72f849439": {
          "model_module": "@jupyter-widgets/base",
          "model_name": "LayoutModel",
          "model_module_version": "1.2.0",
          "state": {
            "_model_module": "@jupyter-widgets/base",
            "_model_module_version": "1.2.0",
            "_model_name": "LayoutModel",
            "_view_count": null,
            "_view_module": "@jupyter-widgets/base",
            "_view_module_version": "1.2.0",
            "_view_name": "LayoutView",
            "align_content": null,
            "align_items": null,
            "align_self": null,
            "border": null,
            "bottom": null,
            "display": null,
            "flex": null,
            "flex_flow": null,
            "grid_area": null,
            "grid_auto_columns": null,
            "grid_auto_flow": null,
            "grid_auto_rows": null,
            "grid_column": null,
            "grid_gap": null,
            "grid_row": null,
            "grid_template_areas": null,
            "grid_template_columns": null,
            "grid_template_rows": null,
            "height": null,
            "justify_content": null,
            "justify_items": null,
            "left": null,
            "margin": null,
            "max_height": null,
            "max_width": null,
            "min_height": null,
            "min_width": null,
            "object_fit": null,
            "object_position": null,
            "order": null,
            "overflow": null,
            "overflow_x": null,
            "overflow_y": null,
            "padding": null,
            "right": null,
            "top": null,
            "visibility": null,
            "width": null
          }
        },
        "132113f306374c6b907458348a288e12": {
          "model_module": "@jupyter-widgets/controls",
          "model_name": "DescriptionStyleModel",
          "model_module_version": "1.5.0",
          "state": {
            "_model_module": "@jupyter-widgets/controls",
            "_model_module_version": "1.5.0",
            "_model_name": "DescriptionStyleModel",
            "_view_count": null,
            "_view_module": "@jupyter-widgets/base",
            "_view_module_version": "1.2.0",
            "_view_name": "StyleView",
            "description_width": ""
          }
        }
      }
    }
  },
  "cells": [
    {
      "cell_type": "markdown",
      "metadata": {
        "id": "view-in-github",
        "colab_type": "text"
      },
      "source": [
        "<a href=\"https://colab.research.google.com/github/IAMJASURBEK/AIapplicationSystem/blob/main/week7/week7_session2.ipynb\" target=\"_parent\"><img src=\"https://colab.research.google.com/assets/colab-badge.svg\" alt=\"Open In Colab\"/></a>"
      ]
    },
    {
      "cell_type": "markdown",
      "source": [
        "## Step 1-2"
      ],
      "metadata": {
        "id": "KO-_xAY764Fk"
      }
    },
    {
      "cell_type": "code",
      "source": [
        "!pip install requests"
      ],
      "metadata": {
        "colab": {
          "base_uri": "https://localhost:8080/"
        },
        "id": "9DP-Q3As65oW",
        "outputId": "05a18775-9e04-4695-de71-7ef86f8ba1b3"
      },
      "execution_count": 1,
      "outputs": [
        {
          "output_type": "stream",
          "name": "stdout",
          "text": [
            "Looking in indexes: https://pypi.org/simple, https://us-python.pkg.dev/colab-wheels/public/simple/\n",
            "Requirement already satisfied: requests in /usr/local/lib/python3.7/dist-packages (2.23.0)\n",
            "Requirement already satisfied: idna<3,>=2.5 in /usr/local/lib/python3.7/dist-packages (from requests) (2.10)\n",
            "Requirement already satisfied: certifi>=2017.4.17 in /usr/local/lib/python3.7/dist-packages (from requests) (2022.9.24)\n",
            "Requirement already satisfied: urllib3!=1.25.0,!=1.25.1,<1.26,>=1.21.1 in /usr/local/lib/python3.7/dist-packages (from requests) (1.24.3)\n",
            "Requirement already satisfied: chardet<4,>=3.0.2 in /usr/local/lib/python3.7/dist-packages (from requests) (3.0.4)\n"
          ]
        }
      ]
    },
    {
      "cell_type": "code",
      "source": [
        "import requests\n",
        "# Save datagenerators as file to colab working directory\n",
        "# If you are using GitHub, make sure you get the \"Raw\" version of the code\n",
        "url = 'https://raw.githubusercontent.com/NVDLI/LDL/main/pt_framework/utilities.py'\n",
        "r = requests.get(url)\n",
        "\n",
        "# make sure your filename is the same as how you want to import\n",
        "with open('utilities.py', 'w') as f:\n",
        "  f.write(r.text)"
      ],
      "metadata": {
        "id": "8CzYMPIp7C3W"
      },
      "execution_count": 2,
      "outputs": []
    },
    {
      "cell_type": "markdown",
      "source": [
        "## Step 1-3"
      ],
      "metadata": {
        "id": "n33PT7vi7iGN"
      }
    },
    {
      "cell_type": "code",
      "source": [
        "import torch\n",
        "import torch.nn as nn\n",
        "\n",
        "import torchvision\n",
        "import torchvision.transforms as transforms\n",
        "\n",
        "from torchvision.datasets import CIFAR10\n",
        "from torch.utils.data import DataLoader\n",
        "\n",
        "import numpy as np\n",
        "\n",
        "from utilities import train_model"
      ],
      "metadata": {
        "id": "mo6qGnkp7m7h"
      },
      "execution_count": 3,
      "outputs": []
    },
    {
      "cell_type": "code",
      "source": [
        "device = torch.device(\"cuda:0\" if torch.cuda.is_available() else \"cpu\")\n",
        "EPOCHS = 128\n",
        "BATCH_SIZE = 32"
      ],
      "metadata": {
        "id": "cc47_YZf7_OP"
      },
      "execution_count": 4,
      "outputs": []
    },
    {
      "cell_type": "code",
      "source": [
        "# Load training dataset into a single batch to compute mean and stddev.\n",
        "transform = transforms.Compose([transforms.ToTensor()])\n",
        "trainset = CIFAR10(root='./pt_data', train = True, download = True, transform = transform)\n",
        "trainloader = DataLoader(trainset, batch_size=len(trainset), shuffle=False)\n",
        "data = next(iter(trainloader))\n",
        "mean = data[0].mean()\n",
        "stddev = data[0].std()"
      ],
      "metadata": {
        "colab": {
          "base_uri": "https://localhost:8080/",
          "height": 84,
          "referenced_widgets": [
            "a9d9e3d8e959449d8c4f8cc772b016fa",
            "6f7313130d244e8cabbb887dfe84d179",
            "3fc9408229e34b6c8daa19f37c7d0c6d",
            "cdb8f7afe7fd41fe8e81d38d99b703f3",
            "b7d5b81e15fd4513a188b11b5e95e526",
            "c6d17a940cce47198516eebac5448e7d",
            "e61dd9c6d5444040b0bd45c5a9edd069",
            "6194ffd71b984a9590602203fb20f7a3",
            "c0b779e7940549b0bd3dae0b1ec01bbd",
            "e8b1ec7dc6894155ac5adbe72f849439",
            "132113f306374c6b907458348a288e12"
          ]
        },
        "id": "391gjQxt8LKF",
        "outputId": "a6832a94-98c4-4d12-f282-b4fe327cde1e"
      },
      "execution_count": 5,
      "outputs": [
        {
          "output_type": "stream",
          "name": "stdout",
          "text": [
            "Downloading https://www.cs.toronto.edu/~kriz/cifar-10-python.tar.gz to ./pt_data/cifar-10-python.tar.gz\n"
          ]
        },
        {
          "output_type": "display_data",
          "data": {
            "text/plain": [
              "  0%|          | 0/170498071 [00:00<?, ?it/s]"
            ],
            "application/vnd.jupyter.widget-view+json": {
              "version_major": 2,
              "version_minor": 0,
              "model_id": "a9d9e3d8e959449d8c4f8cc772b016fa"
            }
          },
          "metadata": {}
        },
        {
          "output_type": "stream",
          "name": "stdout",
          "text": [
            "Extracting ./pt_data/cifar-10-python.tar.gz to ./pt_data\n"
          ]
        }
      ]
    },
    {
      "cell_type": "markdown",
      "source": [
        "## Step 1-4"
      ],
      "metadata": {
        "id": "tnLRB9u68hQ4"
      }
    },
    {
      "cell_type": "code",
      "source": [
        "# Load and standardize training and test dataset.\n",
        "transform = transforms.Compose([\n",
        "                                transforms.ToTensor(),\n",
        "                                transforms.Normalize(mean, stddev)\n",
        "                                ])\n",
        "\n",
        "trainset = CIFAR10(root='./pt_data', train = True, download = True, transform = transform)\n",
        "testset = CIFAR10(root='./pt_data', train = True, download = True, transform = transform)"
      ],
      "metadata": {
        "colab": {
          "base_uri": "https://localhost:8080/"
        },
        "id": "pqOJFMve8i4J",
        "outputId": "dde569c7-808a-467d-e8f9-446f9ae1352c"
      },
      "execution_count": 6,
      "outputs": [
        {
          "output_type": "stream",
          "name": "stdout",
          "text": [
            "Files already downloaded and verified\n",
            "Files already downloaded and verified\n"
          ]
        }
      ]
    },
    {
      "cell_type": "code",
      "source": [
        "# Model with 2 convolutional and 1 fully-connected layer.\n",
        "model = nn.Sequential(\n",
        "    nn.Conv2d(3, 64, 5, stride = 2, padding = 2), # Output is 64x16x16\n",
        "    nn.ReLU(),\n",
        "    nn.Conv2d(64, 64, 3, stride = 2, padding = 1), # Output is 64x8x8\n",
        "    nn.ReLU(),\n",
        "    nn.Flatten(),\n",
        "    nn.Linear(64 * 8 * 8, 10)\n",
        ")"
      ],
      "metadata": {
        "id": "87Ra8j998-Rg"
      },
      "execution_count": 7,
      "outputs": []
    },
    {
      "cell_type": "markdown",
      "source": [
        "## Step 1-5"
      ],
      "metadata": {
        "id": "6eG7dUWo9q9H"
      }
    },
    {
      "cell_type": "code",
      "source": [
        "# Retrieve layers for custom weight initialization.\n",
        "layers = next(model.modules())\n",
        "conv_layer0 = layers[0]\n",
        "conv_layer1 = layers[2]\n",
        "output_layer = layers[5]\n",
        "\n",
        "# Kaiming (He) initialization.\n",
        "nn.init.kaiming_normal_(conv_layer0.weight)\n",
        "nn.init.constant_(conv_layer0.bias, 0.0)\n",
        "nn.init.kaiming_normal_(conv_layer1.weight)\n",
        "nn.init.constant_(conv_layer1.bias, 0.0)\n",
        "\n",
        "# Xavier (Glorot) initialization.\n",
        "nn.init.xavier_uniform_(output_layer.weight)\n",
        "nn.init.constant_(output_layer.bias, 0.0)\n",
        "\n",
        "# Loss function and optimizer\n",
        "optimizer = torch.optim.Adam(model.parameters())\n",
        "loss_function = nn.CrossEntropyLoss()\n",
        "\n",
        "# Train the model\n",
        "train_model(model, device, EPOCHS, BATCH_SIZE, trainset, testset, optimizer, loss_function, 'acc')"
      ],
      "metadata": {
        "colab": {
          "base_uri": "https://localhost:8080/"
        },
        "id": "QLMjQ4P79tJN",
        "outputId": "5be6faf1-efd4-4196-d6af-439d7e01889e"
      },
      "execution_count": 8,
      "outputs": [
        {
          "output_type": "stream",
          "name": "stdout",
          "text": [
            "Epoch 1/128 loss: 1.3883 - acc: 0.5093 - val_loss: 1.0574 - val_acc: 0.6320\n",
            "Epoch 2/128 loss: 1.0627 - acc: 0.6298 - val_loss: 0.8881 - val_acc: 0.6911\n",
            "Epoch 3/128 loss: 0.9198 - acc: 0.6793 - val_loss: 0.7592 - val_acc: 0.7363\n",
            "Epoch 4/128 loss: 0.8169 - acc: 0.7158 - val_loss: 0.6579 - val_acc: 0.7752\n",
            "Epoch 5/128 loss: 0.7356 - acc: 0.7421 - val_loss: 0.6065 - val_acc: 0.7936\n",
            "Epoch 6/128 loss: 0.6666 - acc: 0.7661 - val_loss: 0.5494 - val_acc: 0.8140\n",
            "Epoch 7/128 loss: 0.6075 - acc: 0.7869 - val_loss: 0.4598 - val_acc: 0.8457\n",
            "Epoch 8/128 loss: 0.5514 - acc: 0.8048 - val_loss: 0.4147 - val_acc: 0.8578\n",
            "Epoch 9/128 loss: 0.5091 - acc: 0.8206 - val_loss: 0.3945 - val_acc: 0.8658\n",
            "Epoch 10/128 loss: 0.4658 - acc: 0.8344 - val_loss: 0.3548 - val_acc: 0.8775\n",
            "Epoch 11/128 loss: 0.4299 - acc: 0.8504 - val_loss: 0.3171 - val_acc: 0.8902\n",
            "Epoch 12/128 loss: 0.3964 - acc: 0.8565 - val_loss: 0.3178 - val_acc: 0.8887\n",
            "Epoch 13/128 loss: 0.3721 - acc: 0.8664 - val_loss: 0.2665 - val_acc: 0.9072\n",
            "Epoch 14/128 loss: 0.3418 - acc: 0.8772 - val_loss: 0.2630 - val_acc: 0.9065\n",
            "Epoch 15/128 loss: 0.3197 - acc: 0.8846 - val_loss: 0.2464 - val_acc: 0.9104\n",
            "Epoch 16/128 loss: 0.2951 - acc: 0.8927 - val_loss: 0.2474 - val_acc: 0.9105\n",
            "Epoch 17/128 loss: 0.2751 - acc: 0.8994 - val_loss: 0.2127 - val_acc: 0.9242\n",
            "Epoch 18/128 loss: 0.2598 - acc: 0.9047 - val_loss: 0.1790 - val_acc: 0.9360\n",
            "Epoch 19/128 loss: 0.2455 - acc: 0.9103 - val_loss: 0.1729 - val_acc: 0.9386\n",
            "Epoch 20/128 loss: 0.2307 - acc: 0.9153 - val_loss: 0.1805 - val_acc: 0.9339\n",
            "Epoch 21/128 loss: 0.2174 - acc: 0.9202 - val_loss: 0.1628 - val_acc: 0.9411\n",
            "Epoch 22/128 loss: 0.2159 - acc: 0.9215 - val_loss: 0.1534 - val_acc: 0.9446\n",
            "Epoch 23/128 loss: 0.1912 - acc: 0.9311 - val_loss: 0.1740 - val_acc: 0.9358\n",
            "Epoch 24/128 loss: 0.2068 - acc: 0.9271 - val_loss: 0.1562 - val_acc: 0.9431\n",
            "Epoch 25/128 loss: 0.1793 - acc: 0.9357 - val_loss: 0.1326 - val_acc: 0.9524\n",
            "Epoch 26/128 loss: 0.1783 - acc: 0.9365 - val_loss: 0.1402 - val_acc: 0.9493\n",
            "Epoch 27/128 loss: 0.1837 - acc: 0.9351 - val_loss: 0.1425 - val_acc: 0.9494\n",
            "Epoch 28/128 loss: 0.1700 - acc: 0.9403 - val_loss: 0.1521 - val_acc: 0.9466\n",
            "Epoch 29/128 loss: 0.1706 - acc: 0.9396 - val_loss: 0.1545 - val_acc: 0.9442\n",
            "Epoch 30/128 loss: 0.1561 - acc: 0.9440 - val_loss: 0.1342 - val_acc: 0.9512\n",
            "Epoch 31/128 loss: 0.1634 - acc: 0.9436 - val_loss: 0.1013 - val_acc: 0.9633\n",
            "Epoch 32/128 loss: 0.1516 - acc: 0.9468 - val_loss: 0.1710 - val_acc: 0.9426\n",
            "Epoch 33/128 loss: 0.1535 - acc: 0.9468 - val_loss: 0.1217 - val_acc: 0.9566\n",
            "Epoch 34/128 loss: 0.1584 - acc: 0.9459 - val_loss: 0.1119 - val_acc: 0.9601\n",
            "Epoch 35/128 loss: 0.1517 - acc: 0.9487 - val_loss: 0.1225 - val_acc: 0.9572\n",
            "Epoch 36/128 loss: 0.1415 - acc: 0.9518 - val_loss: 0.1289 - val_acc: 0.9551\n",
            "Epoch 37/128 loss: 0.1465 - acc: 0.9508 - val_loss: 0.1358 - val_acc: 0.9545\n",
            "Epoch 38/128 loss: 0.1469 - acc: 0.9505 - val_loss: 0.1430 - val_acc: 0.9526\n",
            "Epoch 39/128 loss: 0.1474 - acc: 0.9505 - val_loss: 0.0817 - val_acc: 0.9711\n",
            "Epoch 40/128 loss: 0.1395 - acc: 0.9532 - val_loss: 0.1209 - val_acc: 0.9593\n",
            "Epoch 41/128 loss: 0.1415 - acc: 0.9536 - val_loss: 0.1271 - val_acc: 0.9574\n",
            "Epoch 42/128 loss: 0.1474 - acc: 0.9529 - val_loss: 0.1014 - val_acc: 0.9658\n",
            "Epoch 43/128 loss: 0.1332 - acc: 0.9570 - val_loss: 0.0834 - val_acc: 0.9713\n",
            "Epoch 44/128 loss: 0.1453 - acc: 0.9538 - val_loss: 0.1397 - val_acc: 0.9558\n",
            "Epoch 45/128 loss: 0.1379 - acc: 0.9556 - val_loss: 0.1111 - val_acc: 0.9637\n",
            "Epoch 46/128 loss: 0.1521 - acc: 0.9527 - val_loss: 0.0872 - val_acc: 0.9701\n",
            "Epoch 47/128 loss: 0.1152 - acc: 0.9621 - val_loss: 0.1317 - val_acc: 0.9593\n",
            "Epoch 48/128 loss: 0.1392 - acc: 0.9565 - val_loss: 0.0895 - val_acc: 0.9713\n",
            "Epoch 49/128 loss: 0.1445 - acc: 0.9572 - val_loss: 0.1284 - val_acc: 0.9612\n",
            "Epoch 50/128 loss: 0.1372 - acc: 0.9587 - val_loss: 0.0903 - val_acc: 0.9710\n",
            "Epoch 51/128 loss: 0.1345 - acc: 0.9595 - val_loss: 0.1120 - val_acc: 0.9656\n",
            "Epoch 52/128 loss: 0.1310 - acc: 0.9610 - val_loss: 0.1345 - val_acc: 0.9592\n",
            "Epoch 53/128 loss: 0.1432 - acc: 0.9576 - val_loss: 0.1039 - val_acc: 0.9678\n",
            "Epoch 54/128 loss: 0.1258 - acc: 0.9616 - val_loss: 0.1234 - val_acc: 0.9617\n",
            "Epoch 55/128 loss: 0.1432 - acc: 0.9575 - val_loss: 0.1112 - val_acc: 0.9655\n",
            "Epoch 56/128 loss: 0.1237 - acc: 0.9624 - val_loss: 0.1086 - val_acc: 0.9665\n",
            "Epoch 57/128 loss: 0.1386 - acc: 0.9598 - val_loss: 0.1262 - val_acc: 0.9621\n",
            "Epoch 58/128 loss: 0.1353 - acc: 0.9615 - val_loss: 0.1124 - val_acc: 0.9676\n",
            "Epoch 59/128 loss: 0.1351 - acc: 0.9618 - val_loss: 0.1018 - val_acc: 0.9707\n",
            "Epoch 60/128 loss: 0.1326 - acc: 0.9619 - val_loss: 0.1292 - val_acc: 0.9624\n",
            "Epoch 61/128 loss: 0.1362 - acc: 0.9625 - val_loss: 0.0894 - val_acc: 0.9726\n",
            "Epoch 62/128 loss: 0.1279 - acc: 0.9634 - val_loss: 0.0808 - val_acc: 0.9755\n",
            "Epoch 63/128 loss: 0.1279 - acc: 0.9645 - val_loss: 0.1215 - val_acc: 0.9659\n",
            "Epoch 64/128 loss: 0.1327 - acc: 0.9638 - val_loss: 0.1126 - val_acc: 0.9676\n",
            "Epoch 65/128 loss: 0.1350 - acc: 0.9625 - val_loss: 0.0952 - val_acc: 0.9723\n",
            "Epoch 66/128 loss: 0.1369 - acc: 0.9621 - val_loss: 0.1360 - val_acc: 0.9644\n",
            "Epoch 67/128 loss: 0.1299 - acc: 0.9650 - val_loss: 0.0956 - val_acc: 0.9733\n",
            "Epoch 68/128 loss: 0.1334 - acc: 0.9648 - val_loss: 0.1408 - val_acc: 0.9638\n",
            "Epoch 69/128 loss: 0.1348 - acc: 0.9636 - val_loss: 0.1011 - val_acc: 0.9717\n",
            "Epoch 70/128 loss: 0.1262 - acc: 0.9662 - val_loss: 0.1220 - val_acc: 0.9673\n",
            "Epoch 71/128 loss: 0.1273 - acc: 0.9661 - val_loss: 0.1324 - val_acc: 0.9655\n",
            "Epoch 72/128 loss: 0.1345 - acc: 0.9654 - val_loss: 0.1079 - val_acc: 0.9708\n",
            "Epoch 73/128 loss: 0.1272 - acc: 0.9661 - val_loss: 0.0966 - val_acc: 0.9744\n",
            "Epoch 74/128 loss: 0.1321 - acc: 0.9667 - val_loss: 0.1010 - val_acc: 0.9729\n",
            "Epoch 75/128 loss: 0.1314 - acc: 0.9684 - val_loss: 0.0849 - val_acc: 0.9766\n",
            "Epoch 76/128 loss: 0.1494 - acc: 0.9638 - val_loss: 0.0914 - val_acc: 0.9748\n",
            "Epoch 77/128 loss: 0.1287 - acc: 0.9677 - val_loss: 0.1035 - val_acc: 0.9728\n",
            "Epoch 78/128 loss: 0.1298 - acc: 0.9681 - val_loss: 0.1353 - val_acc: 0.9667\n",
            "Epoch 79/128 loss: 0.1364 - acc: 0.9672 - val_loss: 0.1208 - val_acc: 0.9702\n",
            "Epoch 80/128 loss: 0.1245 - acc: 0.9696 - val_loss: 0.1015 - val_acc: 0.9736\n",
            "Epoch 81/128 loss: 0.1414 - acc: 0.9664 - val_loss: 0.1130 - val_acc: 0.9713\n",
            "Epoch 82/128 loss: 0.1278 - acc: 0.9690 - val_loss: 0.1165 - val_acc: 0.9714\n",
            "Epoch 83/128 loss: 0.1380 - acc: 0.9678 - val_loss: 0.1331 - val_acc: 0.9682\n",
            "Epoch 84/128 loss: 0.1392 - acc: 0.9681 - val_loss: 0.1030 - val_acc: 0.9748\n",
            "Epoch 85/128 loss: 0.1188 - acc: 0.9717 - val_loss: 0.1054 - val_acc: 0.9743\n",
            "Epoch 86/128 loss: 0.1347 - acc: 0.9684 - val_loss: 0.0950 - val_acc: 0.9767\n",
            "Epoch 87/128 loss: 0.1368 - acc: 0.9685 - val_loss: 0.0925 - val_acc: 0.9764\n",
            "Epoch 88/128 loss: 0.1374 - acc: 0.9692 - val_loss: 0.1224 - val_acc: 0.9724\n",
            "Epoch 89/128 loss: 0.1363 - acc: 0.9690 - val_loss: 0.1469 - val_acc: 0.9678\n",
            "Epoch 90/128 loss: 0.1305 - acc: 0.9706 - val_loss: 0.1251 - val_acc: 0.9717\n",
            "Epoch 91/128 loss: 0.1395 - acc: 0.9688 - val_loss: 0.1129 - val_acc: 0.9732\n",
            "Epoch 92/128 loss: 0.1281 - acc: 0.9723 - val_loss: 0.1550 - val_acc: 0.9669\n",
            "Epoch 93/128 loss: 0.1370 - acc: 0.9707 - val_loss: 0.1473 - val_acc: 0.9684\n",
            "Epoch 94/128 loss: 0.1335 - acc: 0.9714 - val_loss: 0.1666 - val_acc: 0.9668\n",
            "Epoch 95/128 loss: 0.1403 - acc: 0.9694 - val_loss: 0.1011 - val_acc: 0.9765\n",
            "Epoch 96/128 loss: 0.1332 - acc: 0.9714 - val_loss: 0.0801 - val_acc: 0.9814\n",
            "Epoch 97/128 loss: 0.1352 - acc: 0.9718 - val_loss: 0.1202 - val_acc: 0.9732\n",
            "Epoch 98/128 loss: 0.1325 - acc: 0.9721 - val_loss: 0.1307 - val_acc: 0.9722\n",
            "Epoch 99/128 loss: 0.1348 - acc: 0.9731 - val_loss: 0.1023 - val_acc: 0.9762\n",
            "Epoch 100/128 loss: 0.1431 - acc: 0.9705 - val_loss: 0.0957 - val_acc: 0.9778\n",
            "Epoch 101/128 loss: 0.1333 - acc: 0.9722 - val_loss: 0.1301 - val_acc: 0.9725\n",
            "Epoch 102/128 loss: 0.1351 - acc: 0.9719 - val_loss: 0.0796 - val_acc: 0.9820\n",
            "Epoch 103/128 loss: 0.1404 - acc: 0.9712 - val_loss: 0.1613 - val_acc: 0.9690\n",
            "Epoch 104/128 loss: 0.1260 - acc: 0.9731 - val_loss: 0.1260 - val_acc: 0.9739\n",
            "Epoch 105/128 loss: 0.1424 - acc: 0.9712 - val_loss: 0.1110 - val_acc: 0.9775\n",
            "Epoch 106/128 loss: 0.1437 - acc: 0.9726 - val_loss: 0.1253 - val_acc: 0.9748\n",
            "Epoch 107/128 loss: 0.1371 - acc: 0.9738 - val_loss: 0.1226 - val_acc: 0.9753\n",
            "Epoch 108/128 loss: 0.1388 - acc: 0.9729 - val_loss: 0.1311 - val_acc: 0.9731\n",
            "Epoch 109/128 loss: 0.1347 - acc: 0.9735 - val_loss: 0.1530 - val_acc: 0.9710\n",
            "Epoch 110/128 loss: 0.1243 - acc: 0.9755 - val_loss: 0.1089 - val_acc: 0.9774\n",
            "Epoch 111/128 loss: 0.1423 - acc: 0.9732 - val_loss: 0.1191 - val_acc: 0.9757\n",
            "Epoch 112/128 loss: 0.1398 - acc: 0.9731 - val_loss: 0.1198 - val_acc: 0.9763\n",
            "Epoch 113/128 loss: 0.1416 - acc: 0.9737 - val_loss: 0.1609 - val_acc: 0.9698\n",
            "Epoch 114/128 loss: 0.1418 - acc: 0.9731 - val_loss: 0.1007 - val_acc: 0.9801\n",
            "Epoch 115/128 loss: 0.1387 - acc: 0.9742 - val_loss: 0.0996 - val_acc: 0.9803\n",
            "Epoch 116/128 loss: 0.1319 - acc: 0.9750 - val_loss: 0.1501 - val_acc: 0.9718\n",
            "Epoch 117/128 loss: 0.1484 - acc: 0.9732 - val_loss: 0.1426 - val_acc: 0.9749\n",
            "Epoch 118/128 loss: 0.1413 - acc: 0.9738 - val_loss: 0.1380 - val_acc: 0.9756\n",
            "Epoch 119/128 loss: 0.1332 - acc: 0.9760 - val_loss: 0.0868 - val_acc: 0.9822\n",
            "Epoch 120/128 loss: 0.1449 - acc: 0.9746 - val_loss: 0.1209 - val_acc: 0.9772\n",
            "Epoch 121/128 loss: 0.1457 - acc: 0.9745 - val_loss: 0.1138 - val_acc: 0.9778\n",
            "Epoch 122/128 loss: 0.1407 - acc: 0.9752 - val_loss: 0.1113 - val_acc: 0.9787\n",
            "Epoch 123/128 loss: 0.1335 - acc: 0.9760 - val_loss: 0.1269 - val_acc: 0.9776\n",
            "Epoch 124/128 loss: 0.1521 - acc: 0.9747 - val_loss: 0.0702 - val_acc: 0.9853\n",
            "Epoch 125/128 loss: 0.1386 - acc: 0.9758 - val_loss: 0.0785 - val_acc: 0.9848\n",
            "Epoch 126/128 loss: 0.1378 - acc: 0.9758 - val_loss: 0.0845 - val_acc: 0.9839\n",
            "Epoch 127/128 loss: 0.1379 - acc: 0.9768 - val_loss: 0.1094 - val_acc: 0.9800\n",
            "Epoch 128/128 loss: 0.1444 - acc: 0.9749 - val_loss: 0.1240 - val_acc: 0.9788\n"
          ]
        },
        {
          "output_type": "execute_result",
          "data": {
            "text/plain": [
              "[0.9749080294305822, 0.9788267754318618]"
            ]
          },
          "metadata": {},
          "execution_count": 8
        }
      ]
    }
  ]
}