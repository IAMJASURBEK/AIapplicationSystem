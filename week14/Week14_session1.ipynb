{
  "cells": [
    {
      "cell_type": "markdown",
      "metadata": {
        "id": "view-in-github",
        "colab_type": "text"
      },
      "source": [
        "<a href=\"https://colab.research.google.com/github/IAMJASURBEK/AIapplicationSystem/blob/main/week14/Week14_session1.ipynb\" target=\"_parent\"><img src=\"https://colab.research.google.com/assets/colab-badge.svg\" alt=\"Open In Colab\"/></a>"
      ]
    },
    {
      "cell_type": "markdown",
      "metadata": {
        "id": "Rhn8ZT83931l"
      },
      "source": [
        "# The Transformer architecture"
      ]
    },
    {
      "cell_type": "markdown",
      "metadata": {
        "id": "4hAuO8ng-C7J"
      },
      "source": [
        "## Understanding self-attention"
      ]
    },
    {
      "cell_type": "markdown",
      "metadata": {
        "id": "BoivAQxq-GiM"
      },
      "source": [
        "## Generalized self-attention: the query-key-value model"
      ]
    },
    {
      "cell_type": "markdown",
      "metadata": {
        "id": "kGTQG2c6-Nu8"
      },
      "source": [
        "## Multi-head attention"
      ]
    },
    {
      "cell_type": "markdown",
      "metadata": {
        "id": "GY11dT4U-Qyb"
      },
      "source": [
        "## The Transformer encoder"
      ]
    },
    {
      "cell_type": "markdown",
      "metadata": {
        "id": "Gl498LnS-VYt"
      },
      "source": [
        "## Getting the data"
      ]
    },
    {
      "cell_type": "code",
      "execution_count": 1,
      "metadata": {
        "colab": {
          "base_uri": "https://localhost:8080/"
        },
        "id": "EkSbY7CE9o8t",
        "outputId": "48bdeacb-1231-4ce5-a9db-a3e643643578"
      },
      "outputs": [
        {
          "output_type": "stream",
          "name": "stdout",
          "text": [
            "  % Total    % Received % Xferd  Average Speed   Time    Time     Time  Current\n",
            "                                 Dload  Upload   Total   Spent    Left  Speed\n",
            "100 80.2M  100 80.2M    0     0  28.7M      0  0:00:02  0:00:02 --:--:-- 28.7M\n"
          ]
        }
      ],
      "source": [
        "!curl -O https://ai.stanford.edu/~amaas/data/sentiment/aclImdb_v1.tar.gz\n",
        "!tar -xf aclImdb_v1.tar.gz\n",
        "!rm -r aclImdb/train/unsup"
      ]
    },
    {
      "cell_type": "markdown",
      "metadata": {
        "id": "t061EPj5-tqh"
      },
      "source": [
        "## Preparing the data"
      ]
    },
    {
      "cell_type": "code",
      "execution_count": 2,
      "metadata": {
        "colab": {
          "base_uri": "https://localhost:8080/"
        },
        "id": "i4rQLFxz-ruh",
        "outputId": "5a8c352c-04f2-4b97-927e-5a7d3e2be82b"
      },
      "outputs": [
        {
          "output_type": "stream",
          "name": "stdout",
          "text": [
            "Found 20000 files belonging to 2 classes.\n",
            "Found 5000 files belonging to 2 classes.\n",
            "Found 25000 files belonging to 2 classes.\n"
          ]
        }
      ],
      "source": [
        "import os, pathlib, shutil, random\n",
        "from tensorflow import keras\n",
        "\n",
        "batch_size = 32\n",
        "base_dir = pathlib.Path(\"aclImdb\")\n",
        "val_dir = base_dir / \"val\"\n",
        "train_dir = base_dir / \"train\"\n",
        "\n",
        "for category in (\"neg\", \"pos\"):\n",
        "  os.makedirs(val_dir / category)\n",
        "  files = os.listdir(train_dir / category)\n",
        "  random.Random(1337).shuffle(files)\n",
        "  num_val_samples = int(0.2 * len(files))\n",
        "  val_files = files[-num_val_samples:]\n",
        "  \n",
        "  for fname in val_files:\n",
        "    shutil.move(train_dir / category / fname,\n",
        "                val_dir / category / fname)\n",
        "    \n",
        "train_ds = keras.utils.text_dataset_from_directory(\n",
        "    \"aclImdb/train\", batch_size = batch_size\n",
        ")\n",
        "val_ds = keras.utils.text_dataset_from_directory(\n",
        "    \"aclImdb/val\", batch_size = batch_size\n",
        ")\n",
        "test_ds = keras.utils.text_dataset_from_directory(\n",
        "    \"aclImdb/test\", batch_size = batch_size\n",
        ")\n",
        "\n",
        "text_only_train_ds = train_ds.map(lambda x, y: x)"
      ]
    },
    {
      "cell_type": "markdown",
      "metadata": {
        "id": "5XDj3ufLAM11"
      },
      "source": [
        "## Vectorizing the data"
      ]
    },
    {
      "cell_type": "code",
      "execution_count": 3,
      "metadata": {
        "id": "zj76A1sDAPND"
      },
      "outputs": [],
      "source": [
        "from tensorflow.keras import layers\n",
        "\n",
        "max_length = 600\n",
        "max_tokens = 20000\n",
        "text_vectorization = layers.TextVectorization(\n",
        "    max_tokens = max_tokens,\n",
        "    output_mode = \"int\",\n",
        "    output_sequence_length = max_length,\n",
        ")\n",
        "\n",
        "text_vectorization.adapt(text_only_train_ds)\n",
        "\n",
        "int_train_ds = train_ds.map(\n",
        "    lambda x, y: (text_vectorization(x), y),\n",
        "    num_parallel_calls = 4\n",
        ")\n",
        "\n",
        "int_val_ds = train_ds.map(\n",
        "    lambda x, y: (text_vectorization(x), y),\n",
        "    num_parallel_calls = 4\n",
        ")\n",
        "\n",
        "int_test_ds = train_ds.map(\n",
        "    lambda x, y: (text_vectorization(x), y),\n",
        "    num_parallel_calls = 4\n",
        ")"
      ]
    },
    {
      "cell_type": "markdown",
      "metadata": {
        "id": "TTY3o-TjA-4U"
      },
      "source": [
        "## Transformer encoder implemented as a subclassed Layer"
      ]
    },
    {
      "cell_type": "code",
      "execution_count": 4,
      "metadata": {
        "id": "WCME1sc9BEZw"
      },
      "outputs": [],
      "source": [
        "import tensorflow as tf\n",
        "from tensorflow import keras\n",
        "from tensorflow.keras import layers\n",
        "\n",
        "class TransformerEncoder(layers.Layer):\n",
        "  def __init__(self, embed_dim, dense_dim, num_heads, **kwargs):\n",
        "    super().__init__(**kwargs)\n",
        "    self.embed_dim = embed_dim\n",
        "    self.dense_dim = dense_dim\n",
        "    self.num_heads = num_heads\n",
        "    self.attention = layers.MultiHeadAttention(\n",
        "        num_heads = num_heads, key_dim = embed_dim\n",
        "    )\n",
        "    self.dense_proj = keras.Sequential(\n",
        "        [layers.Dense(dense_dim, activation=\"relu\"),\n",
        "         layers.Dense(embed_dim),]\n",
        "    )\n",
        "    self.layernorm_1 = layers.LayerNormalization()\n",
        "    self.layernorm_2 = layers.LayerNormalization()\n",
        "\n",
        "  def call(self, inputs, mask=None):\n",
        "    if mask is not None:\n",
        "      mask = mask[:, tf.newaxis, :]\n",
        "\n",
        "    attention_output = self.attention(inputs, inputs, attention_mask = mask)\n",
        "    proj_input = self.layernorm_1(inputs + attention_output)\n",
        "    proj_output = self.dense_proj(proj_input)\n",
        "    return self.layernorm_2(proj_input + proj_output)\n",
        "\n",
        "  def get_config(self):\n",
        "    config = super().get_config()\n",
        "    config.update({\n",
        "        \"embed_dim\": self.embed_dim,\n",
        "        \"num_heads\": self.num_heads,\n",
        "        \"dense_dim\": self.dense_dim,\n",
        "    })\n",
        "    return config"
      ]
    },
    {
      "cell_type": "markdown",
      "metadata": {
        "id": "BGnqs1q9DFZj"
      },
      "source": [
        "## Using Transformer encoder for text classification"
      ]
    },
    {
      "cell_type": "code",
      "execution_count": 5,
      "metadata": {
        "colab": {
          "base_uri": "https://localhost:8080/"
        },
        "id": "5qlful8RDKUW",
        "outputId": "f3b5b9c1-95fc-447b-8d34-69b4203bc637"
      },
      "outputs": [
        {
          "output_type": "stream",
          "name": "stdout",
          "text": [
            "Model: \"model\"\n",
            "_________________________________________________________________\n",
            " Layer (type)                Output Shape              Param #   \n",
            "=================================================================\n",
            " input_1 (InputLayer)        [(None, None)]            0         \n",
            "                                                                 \n",
            " embedding (Embedding)       (None, None, 256)         5120000   \n",
            "                                                                 \n",
            " transformer_encoder (Transf  (None, None, 256)        543776    \n",
            " ormerEncoder)                                                   \n",
            "                                                                 \n",
            " global_max_pooling1d (Globa  (None, 256)              0         \n",
            " lMaxPooling1D)                                                  \n",
            "                                                                 \n",
            " dropout (Dropout)           (None, 256)               0         \n",
            "                                                                 \n",
            " dense_2 (Dense)             (None, 1)                 257       \n",
            "                                                                 \n",
            "=================================================================\n",
            "Total params: 5,664,033\n",
            "Trainable params: 5,664,033\n",
            "Non-trainable params: 0\n",
            "_________________________________________________________________\n"
          ]
        }
      ],
      "source": [
        "vocab_size = 20000\n",
        "embed_dim = 256\n",
        "num_heads = 2\n",
        "dense_dim = 32\n",
        "\n",
        "inputs = keras.Input(shape = (None,), dtype = \"int64\")\n",
        "x = layers.Embedding(vocab_size, embed_dim)(inputs)\n",
        "x = TransformerEncoder(embed_dim, dense_dim, num_heads)(x)\n",
        "x = layers.GlobalMaxPooling1D()(x)\n",
        "x = layers.Dropout(0.5)(x)\n",
        "outputs = layers.Dense(1, activation = \"sigmoid\")(x)\n",
        "model = keras.Model(inputs, outputs)\n",
        "model.compile(optimizer = \"rmsprop\",\n",
        "              loss = \"binary_crossentropy\",\n",
        "              metrics=[\"accuracy\"])\n",
        "model.summary()"
      ]
    },
    {
      "cell_type": "markdown",
      "metadata": {
        "id": "kBV6RSCmFk3K"
      },
      "source": [
        "## Training and evaluating the Transformer encoder based model"
      ]
    },
    {
      "cell_type": "code",
      "execution_count": 6,
      "metadata": {
        "colab": {
          "base_uri": "https://localhost:8080/"
        },
        "id": "PMgU2svSFpSu",
        "outputId": "08561fe9-ccd9-48ea-e084-c02b91eea779"
      },
      "outputs": [
        {
          "output_type": "stream",
          "name": "stdout",
          "text": [
            "Epoch 1/20\n",
            "625/625 [==============================] - 65s 93ms/step - loss: 0.5034 - accuracy: 0.7707 - val_loss: 0.3195 - val_accuracy: 0.8654\n",
            "Epoch 2/20\n",
            "625/625 [==============================] - 51s 82ms/step - loss: 0.3252 - accuracy: 0.8601 - val_loss: 0.2878 - val_accuracy: 0.8788\n",
            "Epoch 3/20\n",
            "625/625 [==============================] - 59s 95ms/step - loss: 0.2610 - accuracy: 0.8926 - val_loss: 0.1877 - val_accuracy: 0.9285\n",
            "Epoch 4/20\n",
            "625/625 [==============================] - 60s 96ms/step - loss: 0.2019 - accuracy: 0.9208 - val_loss: 0.1328 - val_accuracy: 0.9514\n",
            "Epoch 5/20\n",
            "625/625 [==============================] - 53s 84ms/step - loss: 0.1631 - accuracy: 0.9383 - val_loss: 0.0993 - val_accuracy: 0.9636\n",
            "Epoch 6/20\n",
            "625/625 [==============================] - 54s 86ms/step - loss: 0.1375 - accuracy: 0.9484 - val_loss: 0.0837 - val_accuracy: 0.9696\n",
            "Epoch 7/20\n",
            "625/625 [==============================] - 59s 95ms/step - loss: 0.1155 - accuracy: 0.9579 - val_loss: 0.0735 - val_accuracy: 0.9739\n",
            "Epoch 8/20\n",
            "625/625 [==============================] - 53s 84ms/step - loss: 0.1020 - accuracy: 0.9615 - val_loss: 0.0619 - val_accuracy: 0.9773\n",
            "Epoch 9/20\n",
            "625/625 [==============================] - 53s 85ms/step - loss: 0.0856 - accuracy: 0.9701 - val_loss: 0.0481 - val_accuracy: 0.9825\n",
            "Epoch 10/20\n",
            "625/625 [==============================] - 53s 84ms/step - loss: 0.0734 - accuracy: 0.9728 - val_loss: 0.0412 - val_accuracy: 0.9844\n",
            "Epoch 11/20\n",
            "625/625 [==============================] - 59s 94ms/step - loss: 0.0617 - accuracy: 0.9776 - val_loss: 0.0364 - val_accuracy: 0.9864\n",
            "Epoch 12/20\n",
            "625/625 [==============================] - 53s 85ms/step - loss: 0.0553 - accuracy: 0.9801 - val_loss: 0.0339 - val_accuracy: 0.9877\n",
            "Epoch 13/20\n",
            "625/625 [==============================] - 59s 94ms/step - loss: 0.0432 - accuracy: 0.9847 - val_loss: 0.0326 - val_accuracy: 0.9877\n",
            "Epoch 14/20\n",
            "625/625 [==============================] - 53s 84ms/step - loss: 0.0358 - accuracy: 0.9873 - val_loss: 0.0352 - val_accuracy: 0.9879\n",
            "Epoch 15/20\n",
            "625/625 [==============================] - 53s 85ms/step - loss: 0.0284 - accuracy: 0.9901 - val_loss: 0.0305 - val_accuracy: 0.9893\n",
            "Epoch 16/20\n",
            "625/625 [==============================] - 52s 84ms/step - loss: 0.0268 - accuracy: 0.9908 - val_loss: 0.0267 - val_accuracy: 0.9902\n",
            "Epoch 17/20\n",
            "625/625 [==============================] - 53s 84ms/step - loss: 0.0231 - accuracy: 0.9927 - val_loss: 0.0106 - val_accuracy: 0.9967\n",
            "Epoch 18/20\n",
            "625/625 [==============================] - 52s 84ms/step - loss: 0.0142 - accuracy: 0.9952 - val_loss: 0.0154 - val_accuracy: 0.9952\n",
            "Epoch 19/20\n",
            "625/625 [==============================] - 52s 84ms/step - loss: 0.0176 - accuracy: 0.9948 - val_loss: 0.0127 - val_accuracy: 0.9958\n",
            "Epoch 20/20\n",
            "625/625 [==============================] - 52s 83ms/step - loss: 0.0146 - accuracy: 0.9951 - val_loss: 0.0106 - val_accuracy: 0.9965\n",
            "625/625 [==============================] - 16s 24ms/step - loss: 0.0106 - accuracy: 0.9965\n",
            "Test acc: 0.997\n"
          ]
        }
      ],
      "source": [
        "callbacks = [\n",
        "    keras.callbacks.ModelCheckpoint(\"transformer_encoder.keras\",\n",
        "                                    save_best_only = True)\n",
        "]\n",
        "\n",
        "model.fit(int_train_ds, validation_data=int_val_ds, epochs=20, callbacks=callbacks)\n",
        "model = keras.models.load_model(\n",
        "    \"transformer_encoder.keras\",\n",
        "    custom_objects={\"TransformerEncoder\": TransformerEncoder}\n",
        "    )\n",
        "\n",
        "print(f\"Test acc: {model.evaluate(int_test_ds)[1]:.3f}\")"
      ]
    },
    {
      "cell_type": "markdown",
      "metadata": {
        "id": "rWKw9yofGk9k"
      },
      "source": [
        "## Using positional encoding to re-inject order information"
      ]
    },
    {
      "cell_type": "markdown",
      "metadata": {
        "id": "b1-m6ydEGucB"
      },
      "source": [
        "## Implementing positional embedding as a subclassed layer"
      ]
    },
    {
      "cell_type": "code",
      "execution_count": 7,
      "metadata": {
        "id": "Cqb4QwtbGs5a"
      },
      "outputs": [],
      "source": [
        "class PositionalEmbedding(layers.Layer):\n",
        "  def __init__(self, sequence_length, input_dim, output_dim, **kwargs):\n",
        "    super().__init__(**kwargs)\n",
        "    self.token_embeddings = layers.Embedding(\n",
        "        input_dim=input_dim, output_dim=output_dim)\n",
        "    self.position_embeddings = layers.Embedding(\n",
        "        input_dim=sequence_length, output_dim=output_dim)\n",
        "    self.sequence_length = sequence_length\n",
        "    self.input_dim = input_dim\n",
        "    self.output_dim = output_dim\n",
        "\n",
        "  def call(self, inputs):\n",
        "    length = tf.shape(inputs)[-1]\n",
        "    positions = tf.range(start=0, limit=length, delta=1)\n",
        "    embedded_tokens = self.token_embeddings(inputs)\n",
        "    embedded_positions = self.position_embeddings(positions)\n",
        "    return embedded_tokens + embedded_positions\n",
        "\n",
        "  def compute_mask(self, inputs, mask=None):\n",
        "    return tf.math.not_equal(inputs, 0)\n",
        "\n",
        "  def get_config(self):\n",
        "    config = super().get_config()\n",
        "    config.update({\n",
        "        \"output_dim\": self.output_dim,\n",
        "        \"sequence_length\": self.sequence_length,\n",
        "        \"input_dim\": self.input_dim,\n",
        "    })\n",
        "    return config"
      ]
    },
    {
      "cell_type": "markdown",
      "metadata": {
        "id": "Y9ld5IXzIGdO"
      },
      "source": [
        "## Putting it all together: A text-classification Transformer"
      ]
    },
    {
      "cell_type": "markdown",
      "metadata": {
        "id": "vpok-WddIKXd"
      },
      "source": [
        "## Combining the Transformer encoder with positional embedding"
      ]
    },
    {
      "cell_type": "code",
      "execution_count": 10,
      "metadata": {
        "colab": {
          "base_uri": "https://localhost:8080/"
        },
        "id": "5_869glNINyn",
        "outputId": "098944ed-40ed-4871-a602-b98ffc73606a"
      },
      "outputs": [
        {
          "output_type": "stream",
          "name": "stdout",
          "text": [
            "Model: \"model_3\"\n",
            "_________________________________________________________________\n",
            " Layer (type)                Output Shape              Param #   \n",
            "=================================================================\n",
            " input_4 (InputLayer)        [(None, None)]            0         \n",
            "                                                                 \n",
            " positional_embedding_2 (Pos  (None, None, 256)        5273600   \n",
            " itionalEmbedding)                                               \n",
            "                                                                 \n",
            " transformer_encoder_3 (Tran  (None, None, 256)        543776    \n",
            " sformerEncoder)                                                 \n",
            "                                                                 \n",
            " global_max_pooling1d_3 (Glo  (None, 256)              0         \n",
            " balMaxPooling1D)                                                \n",
            "                                                                 \n",
            " dropout_3 (Dropout)         (None, 256)               0         \n",
            "                                                                 \n",
            " dense_15 (Dense)            (None, 1)                 257       \n",
            "                                                                 \n",
            "=================================================================\n",
            "Total params: 5,817,633\n",
            "Trainable params: 5,817,633\n",
            "Non-trainable params: 0\n",
            "_________________________________________________________________\n",
            "Epoch 1/20\n",
            "625/625 [==============================] - 57s 88ms/step - loss: 0.4750 - accuracy: 0.7785 - val_loss: 0.2031 - val_accuracy: 0.9258\n",
            "Epoch 2/20\n",
            "625/625 [==============================] - 55s 88ms/step - loss: 0.2327 - accuracy: 0.9115 - val_loss: 0.1414 - val_accuracy: 0.9466\n",
            "Epoch 3/20\n",
            "625/625 [==============================] - 56s 89ms/step - loss: 0.1737 - accuracy: 0.9348 - val_loss: 0.1103 - val_accuracy: 0.9602\n",
            "Epoch 4/20\n",
            "625/625 [==============================] - 54s 87ms/step - loss: 0.1466 - accuracy: 0.9470 - val_loss: 0.1089 - val_accuracy: 0.9588\n",
            "Epoch 5/20\n",
            "625/625 [==============================] - 54s 86ms/step - loss: 0.1236 - accuracy: 0.9561 - val_loss: 0.0755 - val_accuracy: 0.9728\n",
            "Epoch 6/20\n",
            "625/625 [==============================] - 55s 88ms/step - loss: 0.1100 - accuracy: 0.9611 - val_loss: 0.0649 - val_accuracy: 0.9766\n",
            "Epoch 7/20\n",
            "625/625 [==============================] - 55s 87ms/step - loss: 0.0989 - accuracy: 0.9639 - val_loss: 0.1286 - val_accuracy: 0.9542\n",
            "Epoch 8/20\n",
            "625/625 [==============================] - 59s 94ms/step - loss: 0.0863 - accuracy: 0.9691 - val_loss: 0.0645 - val_accuracy: 0.9780\n",
            "Epoch 9/20\n",
            "625/625 [==============================] - 56s 89ms/step - loss: 0.0813 - accuracy: 0.9714 - val_loss: 0.0584 - val_accuracy: 0.9789\n",
            "Epoch 10/20\n",
            "625/625 [==============================] - 59s 95ms/step - loss: 0.0761 - accuracy: 0.9735 - val_loss: 0.0474 - val_accuracy: 0.9817\n",
            "Epoch 11/20\n",
            "625/625 [==============================] - 54s 86ms/step - loss: 0.0665 - accuracy: 0.9770 - val_loss: 0.0434 - val_accuracy: 0.9838\n",
            "Epoch 12/20\n",
            "625/625 [==============================] - 54s 87ms/step - loss: 0.0626 - accuracy: 0.9775 - val_loss: 0.0349 - val_accuracy: 0.9872\n",
            "Epoch 13/20\n",
            "625/625 [==============================] - 54s 86ms/step - loss: 0.0540 - accuracy: 0.9793 - val_loss: 0.0374 - val_accuracy: 0.9858\n",
            "Epoch 14/20\n",
            "625/625 [==============================] - 54s 87ms/step - loss: 0.0491 - accuracy: 0.9829 - val_loss: 0.0269 - val_accuracy: 0.9898\n",
            "Epoch 15/20\n",
            "625/625 [==============================] - 54s 86ms/step - loss: 0.0454 - accuracy: 0.9844 - val_loss: 0.0282 - val_accuracy: 0.9898\n",
            "Epoch 16/20\n",
            "625/625 [==============================] - 55s 87ms/step - loss: 0.0392 - accuracy: 0.9865 - val_loss: 0.0502 - val_accuracy: 0.9804\n",
            "Epoch 17/20\n",
            "625/625 [==============================] - 54s 86ms/step - loss: 0.0349 - accuracy: 0.9880 - val_loss: 0.0188 - val_accuracy: 0.9933\n",
            "Epoch 18/20\n",
            "625/625 [==============================] - 54s 86ms/step - loss: 0.0300 - accuracy: 0.9896 - val_loss: 0.0233 - val_accuracy: 0.9917\n",
            "Epoch 19/20\n",
            "625/625 [==============================] - 55s 87ms/step - loss: 0.0260 - accuracy: 0.9908 - val_loss: 0.0137 - val_accuracy: 0.9953\n",
            "Epoch 20/20\n",
            "625/625 [==============================] - 59s 94ms/step - loss: 0.0237 - accuracy: 0.9916 - val_loss: 0.1076 - val_accuracy: 0.9661\n",
            "625/625 [==============================] - 17s 27ms/step - loss: 0.0137 - accuracy: 0.9953\n",
            "Test acc: 0.995\n"
          ]
        }
      ],
      "source": [
        "vocab_size = 20000\n",
        "sequence_length = 600\n",
        "embed_dim = 256\n",
        "num_heads = 2\n",
        "dense_dim = 32\n",
        "\n",
        "inputs = keras.Input(shape=(None,), dtype=\"int64\")\n",
        "x = PositionalEmbedding(sequence_length, vocab_size, embed_dim)(inputs)\n",
        "x = TransformerEncoder(embed_dim, dense_dim, num_heads)(x)\n",
        "x = layers.GlobalMaxPooling1D()(x)\n",
        "x = layers.Dropout(0.5)(x)\n",
        "outputs = layers.Dense(1, activation=\"sigmoid\")(x)\n",
        "model = keras.Model(inputs, outputs)\n",
        "model.compile(optimizer=\"rmsprop\",\n",
        "              loss=\"binary_crossentropy\",\n",
        "              metrics=[\"accuracy\"])\n",
        "model.summary()\n",
        "\n",
        "callbacks = [\n",
        "    keras.callbacks.ModelCheckpoint(\"full_transformer_encoder.keras\",\n",
        "                                    save_best_only=True)\n",
        "]\n",
        "\n",
        "model.fit(int_train_ds, validation_data=int_val_ds, epochs=20, callbacks=callbacks)\n",
        "model = keras.models.load_model(\n",
        "    \"full_transformer_encoder.keras\",\n",
        "    custom_objects = {\"TransformerEncoder\": TransformerEncoder,\n",
        "                      \"PositionalEmbedding\": PositionalEmbedding})\n",
        "print(f\"Test acc: {model.evaluate(int_test_ds)[1]:.3f}\")"
      ]
    }
  ],
  "metadata": {
    "accelerator": "GPU",
    "colab": {
      "provenance": [],
      "include_colab_link": true
    },
    "gpuClass": "standard",
    "kernelspec": {
      "display_name": "Python 3",
      "name": "python3"
    },
    "language_info": {
      "name": "python"
    }
  },
  "nbformat": 4,
  "nbformat_minor": 0
}